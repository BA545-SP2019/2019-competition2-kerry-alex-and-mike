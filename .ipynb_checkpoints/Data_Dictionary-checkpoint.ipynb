{
 "cells": [
  {
   "cell_type": "markdown",
   "metadata": {},
   "source": [
    "## Data Dictionary"
   ]
  },
  {
   "cell_type": "markdown",
   "metadata": {},
   "source": [
    "Here is a list and defintion of our 23 explanatory variables and one target variable(Y):\n",
    "- **X1:** Amount of credit that an individual or family was given\n",
    "- **X2:** Gender (1=M; 2=F)\n",
    "- **X3:** Education level (1 = graduate school; 2 = university; 3 = high school; 4 = others)\n",
    "- **X4:** Martial Status (1=married; 2=single; 3=others)\n",
    "- **X5:** Age (year)\n",
    "- **X6:** Repayment status in September 2005\n",
    "- **X7:** Repayment status in August 2005\n",
    "- **X8:** Repayment status in July 2005\n",
    "- **X9:** Repayment status in June 2005\n",
    "- **X10:** Repayment status in May 2005\n",
    "- **X11:** Repayment status in April 2005\n",
    "- **X12:** Amount of bill statement in September 2005\n",
    "- **X13:** Amount of bill statement in August 2005\n",
    "- **X14:** Amount of bill statement in July 2005\n",
    "- **X15:** Amount of bill statement in June 2005\n",
    "- **X16:** Amount of bill statement in May 2005\n",
    "- **X17:** Amount of bill statement in April 2005\n",
    "- **X18:** Amount paid in September 2005\n",
    "- **X19:** Amount paid in August 2005\n",
    "- **X20:** Amount paid in July 2005\n",
    "- **X21:** Amount paid in June 2005\n",
    "- **X22:** Amount paid in May 2005\n",
    "- **X23:** Amount paid in April 2005\n",
    "- **Y:** Did they default on their payment? (Yes=1; No=0)"
   ]
  },
  {
   "cell_type": "code",
   "execution_count": null,
   "metadata": {},
   "outputs": [],
   "source": []
  }
 ],
 "metadata": {
  "kernelspec": {
   "display_name": "Python 3",
   "language": "python",
   "name": "python3"
  },
  "language_info": {
   "codemirror_mode": {
    "name": "ipython",
    "version": 3
   },
   "file_extension": ".py",
   "mimetype": "text/x-python",
   "name": "python",
   "nbconvert_exporter": "python",
   "pygments_lexer": "ipython3",
   "version": "3.6.5"
  }
 },
 "nbformat": 4,
 "nbformat_minor": 2
}
