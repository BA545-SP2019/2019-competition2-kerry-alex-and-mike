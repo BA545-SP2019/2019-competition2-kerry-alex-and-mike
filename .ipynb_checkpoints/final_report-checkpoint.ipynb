{
 "cells": [
  {
   "cell_type": "markdown",
   "metadata": {},
   "source": [
    "# Competition 2 - Credit Default\n",
    "\n",
    "**Alex Cattie, Mike Szemenyei, Kerry Clarke**"
   ]
  },
  {
   "cell_type": "markdown",
   "metadata": {},
   "source": [
    "### Part 1 - Understanding & Exploration\n",
    "\n",
    "### **Business Understanding - Framing the Analytical Question(s)**\n",
    "- How accurately are we able to predict that a customer is going to default?\n",
    "- What is the profile of the customer that typically defaults?\n",
    "\n",
    "Link to Full Notebook: [Business Understanding](EDA/Business_Understanding.ipynb)\n",
    "\n",
    "### **Data Dictionary**\n",
    "| Column Name  | Contents |\n",
    "| ------------- | ------------- |\n",
    "| **X1** | Amount of credit that an individual or family was given |\n",
    "| **X2** | Gender (1=M; 2=F) | \n",
    "| **X3** | Education level (1 = graduate school; 2 = university; 3 = high school; 4 = others) | \n",
    "| **X4** | Martial Status (1=married; 2=single; 3=others) | \n",
    "| **X5** | Age (year) | \n",
    "| **X6** | Repayment status in September 2005 | \n",
    "| **X7** | Repayment status in August 2005 | \n",
    "| **X8** | Repayment status in July 2005 | \n",
    "| **X9** | Repayment status in June 2005 | \n",
    "| **X10** | Repayment status in May 2005 | \n",
    "| **X11** | Repayment status in April 2005 | \n",
    "| **X12** | Amount of bill statement in September 2005 | \n",
    "| **X13** | Amount of bill statement in August 2005 | \n",
    "| **X14** | Amount of bill statement in July 2005 | \n",
    "| **X15** | Amount of bill statement in June 2005 | \n",
    "| **X16** | Amount of bill statement in May 2005 | \n",
    "| **X17** | Amount of bill statement in April 2005 | \n",
    "| **X18** | Amount paid in September 2005 | \n",
    "| **X19** | Amount paid in August 2005 | \n",
    "| **X20** | Amount paid in July 2005 | \n",
    "| **X21** | Amount paid in June 2005 | \n",
    "| **X22** | Amount paid in May 2005 | \n",
    "| **X23** | Amount paid in April 2005 | \n",
    "| **Y** | Target - Default (Yes=1; No=0) | \n",
    "\n",
    "Full Notebook: [Data Dictionary](EDA/Data_Dictionary.ipynb)"
   ]
  },
  {
   "cell_type": "markdown",
   "metadata": {},
   "source": [
    "### **Data Understanding**\n",
    "\n",
    "**EDA**\n",
    "\n",
    "![Gender Counts](EDA/gender.PNG)\n",
    "\n",
    "![Education Level](EDA/education.PNG)\n",
    "\n",
    "![Marital Status](EDA/maritalstatus.png)\n",
    "\n",
    "![Age Histogram](EDA/age.PNG)\n",
    "\n",
    "![Target](EDA/y_imbalanced.png)\n",
    "\n",
    "![X1 and X5](EDA/x1x5.PNG)\n",
    "\n",
    "![X12 and X13](EDA/x12x13.PNG)\n",
    "\n",
    "![X14 and X15](EDA/x14x15.PNG)\n",
    "\n",
    "![X16 and X17](EDA/x16x17.PNG)\n",
    "\n",
    "\n",
    "Full Notebook: [Data Understanding](EDA/Data_Understanding_EDA.ipynb)"
   ]
  },
  {
   "cell_type": "markdown",
   "metadata": {},
   "source": [
    "### **Initial Modeling with Raw Data**\n",
    "- Decision Tree\n",
    "- Logistic Regression\n",
    "- TPOT"
   ]
  },
  {
   "cell_type": "markdown",
   "metadata": {},
   "source": [
    "### **Data Preprocessing**\n",
    "- Pipeline 1\n",
    "    - IQR\n",
    "    - Min/Max\n",
    "    - Skew\n",
    "- Pipeline 2\n",
    "    - Skew\n",
    "    - 3stdev\n",
    "    - z-score\n",
    "- **Balancing the Target (initial notebook)**\n",
    "- **Cross Validation vs. Train_Test_Split**\n",
    "- **Feature Engineering**"
   ]
  },
  {
   "cell_type": "markdown",
   "metadata": {},
   "source": [
    "### Part 3 ###"
   ]
  },
  {
   "cell_type": "markdown",
   "metadata": {},
   "source": [
    "**Models**\n",
    "- Decistion Tree\n",
    "- Logistic Regression\n",
    "- SVM\n",
    "- KNeighborsClassifier\n",
    "- AdaBoost\n",
    "- XGBoost\n",
    "- Random Forest\n",
    "- TPOT\n",
    "\n",
    "**Most with and without Cross Validation**"
   ]
  },
  {
   "cell_type": "markdown",
   "metadata": {},
   "source": [
    "### Part 4 ###"
   ]
  },
  {
   "cell_type": "markdown",
   "metadata": {},
   "source": [
    "**Detailed Results/Explanation of the Model with the Best Results that we built**\n",
    "- Explain any \"tweaking\" of the model\n",
    "    - feature selection\n",
    "    - playing with the parameters\n",
    "- Why it may have been the best model\n",
    "- This should be the best model/results we found by following the process from start to finish"
   ]
  },
  {
   "cell_type": "markdown",
   "metadata": {},
   "source": [
    "### Part 5 ###"
   ]
  },
  {
   "cell_type": "markdown",
   "metadata": {},
   "source": [
    "**TPOT Best Model/Results**\n",
    "- Explain why we also ran a TPOT \n",
    "    - because it optimizes performance rather than reproducibility\n",
    "- Explain the importance of knowing how and when to optimize one or the other"
   ]
  },
  {
   "cell_type": "markdown",
   "metadata": {},
   "source": [
    "# Conclusion #"
   ]
  },
  {
   "cell_type": "code",
   "execution_count": null,
   "metadata": {},
   "outputs": [],
   "source": []
  }
 ],
 "metadata": {
  "kernelspec": {
   "display_name": "Python 3",
   "language": "python",
   "name": "python3"
  },
  "language_info": {
   "codemirror_mode": {
    "name": "ipython",
    "version": 3
   },
   "file_extension": ".py",
   "mimetype": "text/x-python",
   "name": "python",
   "nbconvert_exporter": "python",
   "pygments_lexer": "ipython3",
   "version": "3.6.5"
  }
 },
 "nbformat": 4,
 "nbformat_minor": 2
}
