{
 "cells": [
  {
   "cell_type": "code",
   "execution_count": 3,
   "metadata": {},
   "outputs": [],
   "source": [
    "# import packages\n",
    "import numpy as np\n",
    "import pandas as pd\n",
    "import matplotlib.pyplot as plt"
   ]
  },
  {
   "cell_type": "code",
   "execution_count": 4,
   "metadata": {},
   "outputs": [
    {
     "data": {
      "text/html": [
       "<div>\n",
       "<style scoped>\n",
       "    .dataframe tbody tr th:only-of-type {\n",
       "        vertical-align: middle;\n",
       "    }\n",
       "\n",
       "    .dataframe tbody tr th {\n",
       "        vertical-align: top;\n",
       "    }\n",
       "\n",
       "    .dataframe thead th {\n",
       "        text-align: right;\n",
       "    }\n",
       "</style>\n",
       "<table border=\"1\" class=\"dataframe\">\n",
       "  <thead>\n",
       "    <tr style=\"text-align: right;\">\n",
       "      <th></th>\n",
       "      <th>X1</th>\n",
       "      <th>X12_abs</th>\n",
       "      <th>X13_abs</th>\n",
       "      <th>X14_abs</th>\n",
       "      <th>X15_abs</th>\n",
       "      <th>X16_abs</th>\n",
       "      <th>X17_abs</th>\n",
       "    </tr>\n",
       "  </thead>\n",
       "  <tbody>\n",
       "    <tr>\n",
       "      <th>1</th>\n",
       "      <td>20000</td>\n",
       "      <td>3913</td>\n",
       "      <td>3102</td>\n",
       "      <td>689</td>\n",
       "      <td>0</td>\n",
       "      <td>0</td>\n",
       "      <td>0</td>\n",
       "    </tr>\n",
       "    <tr>\n",
       "      <th>2</th>\n",
       "      <td>120000</td>\n",
       "      <td>2682</td>\n",
       "      <td>1725</td>\n",
       "      <td>2682</td>\n",
       "      <td>3272</td>\n",
       "      <td>3455</td>\n",
       "      <td>3261</td>\n",
       "    </tr>\n",
       "    <tr>\n",
       "      <th>3</th>\n",
       "      <td>90000</td>\n",
       "      <td>29239</td>\n",
       "      <td>14027</td>\n",
       "      <td>13559</td>\n",
       "      <td>14331</td>\n",
       "      <td>14948</td>\n",
       "      <td>15549</td>\n",
       "    </tr>\n",
       "    <tr>\n",
       "      <th>4</th>\n",
       "      <td>50000</td>\n",
       "      <td>46990</td>\n",
       "      <td>48233</td>\n",
       "      <td>49291</td>\n",
       "      <td>28314</td>\n",
       "      <td>28959</td>\n",
       "      <td>29547</td>\n",
       "    </tr>\n",
       "    <tr>\n",
       "      <th>5</th>\n",
       "      <td>50000</td>\n",
       "      <td>8617</td>\n",
       "      <td>5670</td>\n",
       "      <td>35835</td>\n",
       "      <td>20940</td>\n",
       "      <td>19146</td>\n",
       "      <td>19131</td>\n",
       "    </tr>\n",
       "    <tr>\n",
       "      <th>6</th>\n",
       "      <td>50000</td>\n",
       "      <td>64400</td>\n",
       "      <td>57069</td>\n",
       "      <td>57608</td>\n",
       "      <td>19394</td>\n",
       "      <td>19619</td>\n",
       "      <td>20024</td>\n",
       "    </tr>\n",
       "    <tr>\n",
       "      <th>7</th>\n",
       "      <td>500000</td>\n",
       "      <td>367965</td>\n",
       "      <td>412023</td>\n",
       "      <td>445007</td>\n",
       "      <td>542653</td>\n",
       "      <td>483003</td>\n",
       "      <td>473944</td>\n",
       "    </tr>\n",
       "    <tr>\n",
       "      <th>8</th>\n",
       "      <td>100000</td>\n",
       "      <td>11876</td>\n",
       "      <td>380</td>\n",
       "      <td>601</td>\n",
       "      <td>221</td>\n",
       "      <td>159</td>\n",
       "      <td>567</td>\n",
       "    </tr>\n",
       "    <tr>\n",
       "      <th>9</th>\n",
       "      <td>140000</td>\n",
       "      <td>11285</td>\n",
       "      <td>14096</td>\n",
       "      <td>12108</td>\n",
       "      <td>12211</td>\n",
       "      <td>11793</td>\n",
       "      <td>3719</td>\n",
       "    </tr>\n",
       "    <tr>\n",
       "      <th>10</th>\n",
       "      <td>20000</td>\n",
       "      <td>0</td>\n",
       "      <td>0</td>\n",
       "      <td>0</td>\n",
       "      <td>0</td>\n",
       "      <td>13007</td>\n",
       "      <td>13912</td>\n",
       "    </tr>\n",
       "  </tbody>\n",
       "</table>\n",
       "</div>"
      ],
      "text/plain": [
       "        X1  X12_abs  X13_abs  X14_abs  X15_abs  X16_abs  X17_abs\n",
       "1    20000     3913     3102      689        0        0        0\n",
       "2   120000     2682     1725     2682     3272     3455     3261\n",
       "3    90000    29239    14027    13559    14331    14948    15549\n",
       "4    50000    46990    48233    49291    28314    28959    29547\n",
       "5    50000     8617     5670    35835    20940    19146    19131\n",
       "6    50000    64400    57069    57608    19394    19619    20024\n",
       "7   500000   367965   412023   445007   542653   483003   473944\n",
       "8   100000    11876      380      601      221      159      567\n",
       "9   140000    11285    14096    12108    12211    11793     3719\n",
       "10   20000        0        0        0        0    13007    13912"
      ]
     },
     "execution_count": 4,
     "metadata": {},
     "output_type": "execute_result"
    }
   ],
   "source": [
    "# read the excel file\n",
    "df = pd.read_csv('../csv_files/comp2_working.csv',index_col=0)\n",
    "df.head(10)"
   ]
  },
  {
   "cell_type": "code",
   "execution_count": 5,
   "metadata": {},
   "outputs": [
    {
     "name": "stdout",
     "output_type": "stream",
     "text": [
      "X1         190000.00\n",
      "X12_abs     63531.25\n",
      "X13_abs     60971.00\n",
      "X14_abs     57401.75\n",
      "X15_abs     52158.50\n",
      "X16_abs     48353.25\n",
      "X17_abs     47892.25\n",
      "dtype: float64\n"
     ]
    }
   ],
   "source": [
    "# finding IQR for each column\n",
    "Q1 = df.quantile(0.25)\n",
    "Q3 = df.quantile(0.75)\n",
    "IQR = Q3 - Q1\n",
    "print(IQR)"
   ]
  },
  {
   "cell_type": "code",
   "execution_count": 6,
   "metadata": {},
   "outputs": [
    {
     "name": "stdout",
     "output_type": "stream",
     "text": [
      "          X1  X12_abs  X13_abs  X14_abs  X15_abs  X16_abs  X17_abs\n",
      "1      False    False    False    False    False    False    False\n",
      "2      False    False    False    False    False    False    False\n",
      "3      False    False    False    False    False    False    False\n",
      "4      False    False    False    False    False    False    False\n",
      "5      False    False    False    False    False    False    False\n",
      "6      False    False    False    False    False    False    False\n",
      "7      False     True     True     True     True     True     True\n",
      "8      False    False    False    False    False    False    False\n",
      "9      False    False    False    False    False    False    False\n",
      "10     False    False    False    False    False    False    False\n",
      "11     False    False    False    False    False    False    False\n",
      "12     False    False    False    False    False    False    False\n",
      "13      True    False    False    False    False    False    False\n",
      "14     False    False    False    False    False    False    False\n",
      "15     False    False    False    False    False    False    False\n",
      "16     False    False    False    False    False    False    False\n",
      "17     False    False    False    False    False    False    False\n",
      "18     False     True     True     True    False    False     True\n",
      "19     False    False    False    False    False    False    False\n",
      "20     False    False    False    False    False    False    False\n",
      "21     False    False    False    False    False    False    False\n",
      "22     False    False    False    False    False    False    False\n",
      "23     False    False    False    False    False    False    False\n",
      "24     False    False    False    False    False    False    False\n",
      "25     False    False    False    False    False    False    False\n",
      "26     False    False    False    False    False    False    False\n",
      "27     False    False    False    False    False    False    False\n",
      "28     False    False    False    False    False    False    False\n",
      "29     False    False    False    False    False    False    False\n",
      "30     False    False    False    False    False    False    False\n",
      "...      ...      ...      ...      ...      ...      ...      ...\n",
      "29971  False    False    False    False    False    False    False\n",
      "29972  False    False    False    False    False    False    False\n",
      "29973  False    False    False    False    False    False     True\n",
      "29974  False    False    False    False    False    False    False\n",
      "29975  False    False    False    False    False    False    False\n",
      "29976  False    False    False    False    False    False    False\n",
      "29977  False    False    False    False    False    False    False\n",
      "29978  False    False    False    False     True     True     True\n",
      "29979  False     True     True     True     True     True     True\n",
      "29980  False    False    False    False    False    False    False\n",
      "29981  False    False    False    False    False    False    False\n",
      "29982  False    False    False    False    False    False    False\n",
      "29983  False    False    False    False    False    False    False\n",
      "29984  False    False    False    False    False    False    False\n",
      "29985  False    False    False    False    False    False    False\n",
      "29986  False    False    False    False    False    False    False\n",
      "29987  False    False    False    False    False    False    False\n",
      "29988  False    False    False    False    False    False    False\n",
      "29989  False     True     True     True     True     True     True\n",
      "29990  False    False    False    False    False    False    False\n",
      "29991  False    False    False    False     True    False    False\n",
      "29992  False    False    False    False    False    False    False\n",
      "29993  False    False    False    False    False    False    False\n",
      "29994  False    False    False    False    False    False    False\n",
      "29995  False    False    False    False    False    False    False\n",
      "29996  False     True     True     True    False    False    False\n",
      "29997  False    False    False    False    False    False    False\n",
      "29998  False    False    False    False    False    False    False\n",
      "29999  False    False    False    False    False    False    False\n",
      "30000  False    False    False    False    False    False    False\n",
      "\n",
      "[30000 rows x 7 columns]\n"
     ]
    }
   ],
   "source": [
    "# define upper bound\n",
    "upper = Q3 + 1.5 * IQR\n",
    "# define lower bound \n",
    "lower = Q1 - 1.5 * IQR\n",
    "# define outlier variable \n",
    "# below is equivalent to this formula: outlier = (df < (Q1 - 1.5 * IQR)) | (df > (Q3 + 1.5 * IQR))\n",
    "outlier = (df < lower) | (df > upper)\n",
    "\n",
    "# print out the results\n",
    "# gives the location of the outlier values (indicated by True) based on the bounds defined above \n",
    "print(outlier)"
   ]
  },
  {
   "cell_type": "code",
   "execution_count": 7,
   "metadata": {},
   "outputs": [],
   "source": [
    "# define upper and lower lists\n",
    "upper = []\n",
    "lower = []\n",
    "\n",
    "# create for loop that will iterate over each value in every column\n",
    "for i in df.columns:\n",
    "    # define Q1 and Q3 for each column\n",
    "    Q1 = df[i].quantile(0.25)\n",
    "    Q3 = df[i].quantile(0.75)\n",
    "    # define IQR for each column\n",
    "    IQR = Q3 - Q1\n",
    "    # append empty lists upper and lower\n",
    "    upper_list = Q3 + 1.5 * IQR\n",
    "    upper.append(upper_list)\n",
    "    lower_list = Q1 - 1.5 * IQR\n",
    "    lower.append(lower_list)"
   ]
  },
  {
   "cell_type": "code",
   "execution_count": 8,
   "metadata": {},
   "outputs": [],
   "source": [
    "# define the function that will replace outlier values in each column with the appropriate upper or lower limit \n",
    "def outlier_handling(x, upper, lower):\n",
    "    if x > upper:\n",
    "        x = upper\n",
    "    elif x < lower:\n",
    "            x = lower\n",
    "    else:\n",
    "        pass\n",
    "    return x"
   ]
  },
  {
   "cell_type": "code",
   "execution_count": 9,
   "metadata": {},
   "outputs": [],
   "source": [
    "# apply the outlier handling function to the dfx dataframe to replace the outlier values in each column\n",
    "for col in df.columns:\n",
    "    q1 = df.loc[:, col].quantile(0.25)\n",
    "    q3 = df.loc[:, col].quantile(0.75)\n",
    "    IQR = q3 - q1\n",
    "    lbound = q1 - 1.5*IQR\n",
    "    ubound = q3 + 1.5*IQR\n",
    "    df.loc[:, col] = df.loc[:, col].apply(lambda x: outlier_handling(x, ubound,lbound))"
   ]
  },
  {
   "cell_type": "markdown",
   "metadata": {},
   "source": [
    "### Check that IQR Outlier Function Worked by Examing the Boxplots ###"
   ]
  },
  {
   "cell_type": "code",
   "execution_count": 10,
   "metadata": {},
   "outputs": [
    {
     "data": {
      "text/plain": [
       "{'whiskers': [<matplotlib.lines.Line2D at 0x7f2e1b0fbeb8>,\n",
       "  <matplotlib.lines.Line2D at 0x7f2e1b12b240>],\n",
       " 'caps': [<matplotlib.lines.Line2D at 0x7f2e1b12b588>,\n",
       "  <matplotlib.lines.Line2D at 0x7f2e1b12b8d0>],\n",
       " 'boxes': [<matplotlib.lines.Line2D at 0x7f2e1b0fbd68>],\n",
       " 'medians': [<matplotlib.lines.Line2D at 0x7f2e1b12bc18>],\n",
       " 'fliers': [<matplotlib.lines.Line2D at 0x7f2e1b12bf60>],\n",
       " 'means': []}"
      ]
     },
     "execution_count": 10,
     "metadata": {},
     "output_type": "execute_result"
    },
    {
     "data": {
      "image/png": "[encoded data removed]",
      "text/plain": [
       "<Figure size 432x288 with 1 Axes>"
      ]
     },
     "metadata": {},
     "output_type": "display_data"
    }
   ],
   "source": [
    "plt.boxplot(df['X1'])"
   ]
  },
  {
   "cell_type": "code",
   "execution_count": 11,
   "metadata": {},
   "outputs": [
    {
     "data": {
      "text/plain": [
       "{'whiskers': [<matplotlib.lines.Line2D at 0x7f2e1b16b7f0>,\n",
       "  <matplotlib.lines.Line2D at 0x7f2e1b16bb38>],\n",
       " 'caps': [<matplotlib.lines.Line2D at 0x7f2e1b16be80>,\n",
       "  <matplotlib.lines.Line2D at 0x7f2e1b176208>],\n",
       " 'boxes': [<matplotlib.lines.Line2D at 0x7f2e1b16b6a0>],\n",
       " 'medians': [<matplotlib.lines.Line2D at 0x7f2e1b176550>],\n",
       " 'fliers': [<matplotlib.lines.Line2D at 0x7f2e1b176898>],\n",
       " 'means': []}"
      ]
     },
     "execution_count": 11,
     "metadata": {},
     "output_type": "execute_result"
    },
    {
     "data": {
      "image/png": "[encoded data removed]",
      "text/plain": [
       "<Figure size 432x288 with 1 Axes>"
      ]
     },
     "metadata": {},
     "output_type": "display_data"
    }
   ],
   "source": [
    "plt.boxplot(df['X12_abs'])"
   ]
  },
  {
   "cell_type": "code",
   "execution_count": 12,
   "metadata": {},
   "outputs": [
    {
     "data": {
      "text/plain": [
       "{'whiskers': [<matplotlib.lines.Line2D at 0x7f2e1af05048>,\n",
       "  <matplotlib.lines.Line2D at 0x7f2e1af05390>],\n",
       " 'caps': [<matplotlib.lines.Line2D at 0x7f2e1af056d8>,\n",
       "  <matplotlib.lines.Line2D at 0x7f2e1af05a20>],\n",
       " 'boxes': [<matplotlib.lines.Line2D at 0x7f2e18e72eb8>],\n",
       " 'medians': [<matplotlib.lines.Line2D at 0x7f2e1af05d68>],\n",
       " 'fliers': [<matplotlib.lines.Line2D at 0x7f2e18e870f0>],\n",
       " 'means': []}"
      ]
     },
     "execution_count": 12,
     "metadata": {},
     "output_type": "execute_result"
    },
    {
     "data": {
      "image/png": "[encoded data removed]",
      "text/plain": [
       "<Figure size 432x288 with 1 Axes>"
      ]
     },
     "metadata": {},
     "output_type": "display_data"
    }
   ],
   "source": [
    "plt.boxplot(df['X13_abs'])"
   ]
  },
  {
   "cell_type": "code",
   "execution_count": 13,
   "metadata": {},
   "outputs": [
    {
     "data": {
      "text/plain": [
       "{'whiskers': [<matplotlib.lines.Line2D at 0x7f2e18ddf780>,\n",
       "  <matplotlib.lines.Line2D at 0x7f2e18ddfac8>],\n",
       " 'caps': [<matplotlib.lines.Line2D at 0x7f2e18ddfe10>,\n",
       "  <matplotlib.lines.Line2D at 0x7f2e18de9198>],\n",
       " 'boxes': [<matplotlib.lines.Line2D at 0x7f2e18ddf630>],\n",
       " 'medians': [<matplotlib.lines.Line2D at 0x7f2e18de94e0>],\n",
       " 'fliers': [<matplotlib.lines.Line2D at 0x7f2e18de9828>],\n",
       " 'means': []}"
      ]
     },
     "execution_count": 13,
     "metadata": {},
     "output_type": "execute_result"
    },
    {
     "data": {
      "image/png": "[encoded data removed]",
      "text/plain": [
       "<Figure size 432x288 with 1 Axes>"
      ]
     },
     "metadata": {},
     "output_type": "display_data"
    }
   ],
   "source": [
    "plt.boxplot(df['X14_abs'])"
   ]
  },
  {
   "cell_type": "code",
   "execution_count": 14,
   "metadata": {},
   "outputs": [
    {
     "data": {
      "text/plain": [
       "{'whiskers': [<matplotlib.lines.Line2D at 0x7f2e18dbf6a0>,\n",
       "  <matplotlib.lines.Line2D at 0x7f2e18dbf9e8>],\n",
       " 'caps': [<matplotlib.lines.Line2D at 0x7f2e18dbfd30>,\n",
       "  <matplotlib.lines.Line2D at 0x7f2e18dc80b8>],\n",
       " 'boxes': [<matplotlib.lines.Line2D at 0x7f2e18dbf550>],\n",
       " 'medians': [<matplotlib.lines.Line2D at 0x7f2e18dc8400>],\n",
       " 'fliers': [<matplotlib.lines.Line2D at 0x7f2e18dc8748>],\n",
       " 'means': []}"
      ]
     },
     "execution_count": 14,
     "metadata": {},
     "output_type": "execute_result"
    },
    {
     "data": {
      "image/png": "[encoded data removed]",
      "text/plain": [
       "<Figure size 432x288 with 1 Axes>"
      ]
     },
     "metadata": {},
     "output_type": "display_data"
    }
   ],
   "source": [
    "plt.boxplot(df['X15_abs'])"
   ]
  },
  {
   "cell_type": "code",
   "execution_count": 15,
   "metadata": {},
   "outputs": [
    {
     "data": {
      "text/plain": [
       "{'whiskers': [<matplotlib.lines.Line2D at 0x7f2e18d9e128>,\n",
       "  <matplotlib.lines.Line2D at 0x7f2e18d9e470>],\n",
       " 'caps': [<matplotlib.lines.Line2D at 0x7f2e18d9e7b8>,\n",
       "  <matplotlib.lines.Line2D at 0x7f2e18d9eb00>],\n",
       " 'boxes': [<matplotlib.lines.Line2D at 0x7f2e18d95f98>],\n",
       " 'medians': [<matplotlib.lines.Line2D at 0x7f2e18d9ee48>],\n",
       " 'fliers': [<matplotlib.lines.Line2D at 0x7f2e18d291d0>],\n",
       " 'means': []}"
      ]
     },
     "execution_count": 15,
     "metadata": {},
     "output_type": "execute_result"
    },
    {
     "data": {
      "image/png": "[encoded data removed]",
      "text/plain": [
       "<Figure size 432x288 with 1 Axes>"
      ]
     },
     "metadata": {},
     "output_type": "display_data"
    }
   ],
   "source": [
    "plt.boxplot(df['X16_abs'])"
   ]
  },
  {
   "cell_type": "code",
   "execution_count": 16,
   "metadata": {},
   "outputs": [
    {
     "data": {
      "text/plain": [
       "{'whiskers': [<matplotlib.lines.Line2D at 0x7f2e1b0c35f8>,\n",
       "  <matplotlib.lines.Line2D at 0x7f2e1b0c3940>],\n",
       " 'caps': [<matplotlib.lines.Line2D at 0x7f2e1b0c3d30>,\n",
       "  <matplotlib.lines.Line2D at 0x7f2e18ce3358>],\n",
       " 'boxes': [<matplotlib.lines.Line2D at 0x7f2e1b0c34a8>],\n",
       " 'medians': [<matplotlib.lines.Line2D at 0x7f2e18ce36a0>],\n",
       " 'fliers': [<matplotlib.lines.Line2D at 0x7f2e18ce39e8>],\n",
       " 'means': []}"
      ]
     },
     "execution_count": 16,
     "metadata": {},
     "output_type": "execute_result"
    },
    {
     "data": {
      "image/png": "[encoded data removed]",
      "text/plain": [
       "<Figure size 432x288 with 1 Axes>"
      ]
     },
     "metadata": {},
     "output_type": "display_data"
    }
   ],
   "source": [
    "plt.boxplot(df['X17_abs'])"
   ]
  },
  {
   "cell_type": "code",
   "execution_count": 18,
   "metadata": {},
   "outputs": [],
   "source": [
    "# export new dataframe to csv\n",
    "df.to_csv('../csv_files/comp2_iqr.csv')"
   ]
  },
  {
   "cell_type": "code",
   "execution_count": null,
   "metadata": {},
   "outputs": [],
   "source": []
  }
 ],
 "metadata": {
  "kernelspec": {
   "display_name": "Python 3",
   "language": "python",
   "name": "python3"
  },
  "language_info": {
   "codemirror_mode": {
    "name": "ipython",
    "version": 3
   },
   "file_extension": ".py",
   "mimetype": "text/x-python",
   "name": "python",
   "nbconvert_exporter": "python",
   "pygments_lexer": "ipython3",
   "version": "3.6.5"
  }
 },
 "nbformat": 4,
 "nbformat_minor": 2
}
