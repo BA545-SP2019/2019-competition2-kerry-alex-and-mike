{
 "cells": [
  {
   "cell_type": "markdown",
   "metadata": {},
   "source": [
    "### Data Report 4/8/19 ###\n",
    "**This report will cover the steps the group has taken so far and the steps we anticipate doing in the coming weeks**"
   ]
  },
  {
   "cell_type": "markdown",
   "metadata": {},
   "source": [
    "### 1. Business Understanding - Framing the Analytical Questions ###\n",
    "**Research Questions**\n",
    "- What are the determinants of the default of credit card customers?\n",
    "- What kind of person is most likely to default on payments? (Build a profile)\n",
    "- Do the engineered features matter or impact the prediction/\n",
    "- What is the best modeling technique?\n",
    "- Additional questions can be found in the Business Understanding Notebook\n",
    "\n",
    "**Brief History of Credit Card Default**\n",
    "\n",
    "**We believe that more information is required for this analysis so we went through the process of feature engineering.**\n",
    "\n",
    "**The notebook can be found here: [Business Understanding](EDA/Business_Understanding.ipynb)**"
   ]
  },
  {
   "cell_type": "markdown",
   "metadata": {},
   "source": [
    "### 2. Data understanding - EDA ##\n",
    "**Includes:**\n",
    "- **Descriptive Stats**\n",
    "- **Correlation**\n",
    "- **Preliminary EDA graphs** \n",
    "- **Data Dictonary** \n",
    "- **Any research done on the pros & cons of spliting data using a fixed split or a cross-validation**"
   ]
  },
  {
   "cell_type": "markdown",
   "metadata": {},
   "source": [
    "### EDA ###\n",
    "The Data Understanding Notebook can be found here: [Data Understanding](EDA/Data_Understanding_EDA.ipynb).\n",
    "We also included a [Decision Tree](EDA/initial_decisiontree_logreg.ipynb) in the EDA."
   ]
  },
  {
   "cell_type": "markdown",
   "metadata": {},
   "source": [
    "### Data Dictionary ###\n",
    "Data Dictionary Notebook can be found here: [Data Dictionary](EDA/Data_Dictionary.ipynb)"
   ]
  },
  {
   "cell_type": "markdown",
   "metadata": {},
   "source": [
    "### 3. Data Preparation ###\n",
    "**Includes preprocessing steps for handling outliers, normalizing and standardizing the data. Also has steps for Binning and Feature Engineering.**\n",
    "\n",
    "**Pipeline 1**\n",
    "- [IQR](pipeline_1/comp2_IQR.ipynb)\n",
    "- [Min/Max](pipeline_1/comp2_minmax.ipynb)\n",
    "- [Skew](pipeline_1/comp2_skew.ipynb)\n",
    "- [2nd Round Decision Tree](pipeline_1/2ndround_decisiontree.ipynb)\n",
    "**Pipeline 2**\n",
    "- [Skew](pipeline_2/p2skewness.ipynb)\n",
    "- [3 stdev](pipeline_2/p2stdev.ipynb)\n",
    "- [Z-score](pipeline_2/p2zscore.ipynb)\n",
    "\n",
    "**Binning/Feature Engineering**\n",
    "- Altered the bins for certain variables or created entirely new variables \n",
    "- [Initial Notebook](comp2_initial.ipynb)"
   ]
  },
  {
   "cell_type": "markdown",
   "metadata": {},
   "source": [
    "### Next Steps ###\n",
    "- **Re-evaluation of the data**\n",
    "- **Feature Selection**\n",
    "- **Advanced Modeling**"
   ]
  },
  {
   "cell_type": "code",
   "execution_count": null,
   "metadata": {},
   "outputs": [],
   "source": []
  }
 ],
 "metadata": {
  "kernelspec": {
   "display_name": "Python 3",
   "language": "python",
   "name": "python3"
  },
  "language_info": {
   "codemirror_mode": {
    "name": "ipython",
    "version": 3
   },
   "file_extension": ".py",
   "mimetype": "text/x-python",
   "name": "python",
   "nbconvert_exporter": "python",
   "pygments_lexer": "ipython3",
   "version": "3.6.5"
  }
 },
 "nbformat": 4,
 "nbformat_minor": 2
}
