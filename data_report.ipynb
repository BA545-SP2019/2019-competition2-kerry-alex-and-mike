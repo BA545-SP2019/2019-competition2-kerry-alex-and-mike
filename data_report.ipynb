{
 "cells": [
  {
   "cell_type": "markdown",
   "metadata": {},
   "source": [
    "### Data Report 4/8/19 ###\n",
    "**This report will cover the steps the group has taken so far and the steps we anticipate doing in the coming weeks**"
   ]
  },
  {
   "cell_type": "markdown",
   "metadata": {},
   "source": [
    "### 1. Business Understanding - Framing the Analytical Questions ###\n",
    "**Research Questions**\n",
    "- What are the determinants of the default of credit card customers?\n",
    "- What kind of person is most likely to default on payments? (Build a profile)\n",
    "- Do the engineered features matter or impact the prediction/\n",
    "- What is the best modeling technique?\n",
    "\n",
    "**Brief History of Credit Card Default**\n",
    "\n",
    "**We believe that more information is required for this analysis so we went through the process of feature engineering**"
   ]
  },
  {
   "cell_type": "markdown",
   "metadata": {},
   "source": [
    "### 2. Data understanding - EDA ##\n",
    "**Includes:**\n",
    "- **Descriptive Stats**\n",
    "- **Correlation**\n",
    "- **Preliminary EDA graphs** \n",
    "- **Data Dictonary** \n",
    "- **Any research done on the pros & cons of spliting data using a fixed split or a cross-validation**"
   ]
  },
  {
   "cell_type": "markdown",
   "metadata": {},
   "source": [
    "### EDA ###"
   ]
  },
  {
   "cell_type": "markdown",
   "metadata": {},
   "source": [
    "### Data Dictionary ###"
   ]
  },
  {
   "cell_type": "markdown",
   "metadata": {},
   "source": [
    "### 3. Data Preparation ###\n",
    "**Includes preprocessing steps for handling outliers, normalizing and standardizing the data. Also has steps for Binning and Feature Engineering.**\n",
    "\n",
    "**Pipeline 1**\n",
    "- IQR\n",
    "- Min/Max \n",
    "- Skew\n",
    "\n",
    "**Pipeline 2**\n",
    "- Skew\n",
    "- 3 Stdev\n",
    "- Z=score"
   ]
  },
  {
   "cell_type": "markdown",
   "metadata": {},
   "source": [
    "### Next Steps ###\n",
    "- **Feature Selection**\n",
    "- **Advanced Modeling**"
   ]
  },
  {
   "cell_type": "code",
   "execution_count": null,
   "metadata": {},
   "outputs": [],
   "source": []
  }
 ],
 "metadata": {
  "kernelspec": {
   "display_name": "Python 3",
   "language": "python",
   "name": "python3"
  },
  "language_info": {
   "codemirror_mode": {
    "name": "ipython",
    "version": 3
   },
   "file_extension": ".py",
   "mimetype": "text/x-python",
   "name": "python",
   "nbconvert_exporter": "python",
   "pygments_lexer": "ipython3",
   "version": "3.6.5"
  }
 },
 "nbformat": 4,
 "nbformat_minor": 2
}
