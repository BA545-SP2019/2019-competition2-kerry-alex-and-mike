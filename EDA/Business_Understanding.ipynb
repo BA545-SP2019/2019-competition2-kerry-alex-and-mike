{
 "cells": [
  {
   "cell_type": "markdown",
   "metadata": {},
   "source": [
    "## Business Understanding"
   ]
  },
  {
   "cell_type": "markdown",
   "metadata": {},
   "source": [
    "**Framing Analytical Questions**\n",
    "- How accurately are we able to predict that a customer is going to default?\n",
    "- What is the proababilit that a customer is going to default? \n",
    "   - Not neccassirly 'yes' or 'no' but a percantage chance which would make classifying easier\n",
    "- Is there a unique characteristic that those who defaul usually possess? \n",
    "- Can the probability of default produced through data mining represent the \"real\" probability of defaulting?\n",
    "- Do those who default tend to be of a certain age? education level? or relationship?"
   ]
  },
  {
   "cell_type": "markdown",
   "metadata": {},
   "source": [
    "**Outside Research**"
   ]
  },
  {
   "cell_type": "markdown",
   "metadata": {},
   "source": [
    "In the early 2000s banks in Taiwan were trying to find new ways to make money after the real estate market slowed down. They decided to go into issuing credit cards and cash cards. They made it very easy for individuals to obtain. There were pratically no requirements needed to get one. The banks decided to focus on younger individuals and this would ultimately be their major problem. Reason being that the younger individuals love to spend money with their credit cards but they did not have much in the way of income. \n",
    "\n",
    "The credit card crisis reached its height in February 2006, when the debts from these credit and cash cards reached **$268 Billion USD** (Taiwan's Credit Crisis). More than 500,000 people were unable to pay off the credit card debt that they had accumlated; these individuals became known as \"credit card slaves\" which were individuals who could only pay the minimum amount on their bill every month. The credit card crisis lead to many societal problems in Taiwan. People were not able to afford a place to stay or thier children's education because of the credit card debt that they had amassed (Taiwan's Credit Crisis). Some individuals even chose to take their own lives. The suicide rate in 2006 increased **22.9%** in Taiwan compared to 2005.\n",
    "\n",
    "The Taiwanese Finance Supervisory Commision eventually steped in to try and help fix the credit crisis. They started by making major changes to the requirements that had to be met for one to get a credit card or cash card in Taiwain. The new requirements made it so that someone must have a job and certain level of income. This elimanted the banks from targeting college students who did not truly know what they were signing up for. The commission also prohibited certain credit card commercials, collection behaviors, and compounding interest (Taiwan's Credit Crisis). These new rules helped to eliminate more bad debt from taking place. In regards to the massive amount of debt that was already amassed, much of it was sold to asset management corporations (AMC). \n",
    "\n",
    "In July 2006, the Taiwanese Congress passed the Debtors Repayment Regulation whose main purpose was to help people who do not have money and could not repay their debts to clear their debts and start over (Taiwan's Credit Crisis). It seems very similar to declaring bankruptcy in the United States. The new regulation made it so that the banks and debtors had to work together to try and solve the problem.\n",
    "\n",
    "https://sevenpillarsinstitute.org/case-studies/taiwans-credit-card-crisis/"
   ]
  },
  {
   "cell_type": "code",
   "execution_count": null,
   "metadata": {},
   "outputs": [],
   "source": []
  }
 ],
 "metadata": {
  "kernelspec": {
   "display_name": "Python 3",
   "language": "python",
   "name": "python3"
  },
  "language_info": {
   "codemirror_mode": {
    "name": "ipython",
    "version": 3
   },
   "file_extension": ".py",
   "mimetype": "text/x-python",
   "name": "python",
   "nbconvert_exporter": "python",
   "pygments_lexer": "ipython3",
   "version": "3.6.5"
  }
 },
 "nbformat": 4,
 "nbformat_minor": 2
}
