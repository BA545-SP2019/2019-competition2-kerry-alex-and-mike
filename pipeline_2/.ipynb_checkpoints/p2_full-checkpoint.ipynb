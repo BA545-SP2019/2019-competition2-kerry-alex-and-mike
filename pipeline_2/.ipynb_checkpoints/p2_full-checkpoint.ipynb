{
 "cells": [
  {
   "cell_type": "code",
   "execution_count": 1,
   "metadata": {},
   "outputs": [],
   "source": [
    "import numpy as np\n",
    "import pandas as pd\n",
    "import matplotlib.pyplot as plt"
   ]
  },
  {
   "cell_type": "code",
   "execution_count": 2,
   "metadata": {},
   "outputs": [
    {
     "data": {
      "text/html": [
       "<div>\n",
       "<style scoped>\n",
       "    .dataframe tbody tr th:only-of-type {\n",
       "        vertical-align: middle;\n",
       "    }\n",
       "\n",
       "    .dataframe tbody tr th {\n",
       "        vertical-align: top;\n",
       "    }\n",
       "\n",
       "    .dataframe thead th {\n",
       "        text-align: right;\n",
       "    }\n",
       "</style>\n",
       "<table border=\"1\" class=\"dataframe\">\n",
       "  <thead>\n",
       "    <tr style=\"text-align: right;\">\n",
       "      <th></th>\n",
       "      <th>X1</th>\n",
       "      <th>X12_abs</th>\n",
       "      <th>X13_abs</th>\n",
       "      <th>X14_abs</th>\n",
       "      <th>X15_abs</th>\n",
       "      <th>X16_abs</th>\n",
       "      <th>X17_abs</th>\n",
       "    </tr>\n",
       "  </thead>\n",
       "  <tbody>\n",
       "    <tr>\n",
       "      <th>1</th>\n",
       "      <td>20000</td>\n",
       "      <td>3913</td>\n",
       "      <td>3102</td>\n",
       "      <td>689</td>\n",
       "      <td>0</td>\n",
       "      <td>0</td>\n",
       "      <td>0</td>\n",
       "    </tr>\n",
       "    <tr>\n",
       "      <th>2</th>\n",
       "      <td>120000</td>\n",
       "      <td>2682</td>\n",
       "      <td>1725</td>\n",
       "      <td>2682</td>\n",
       "      <td>3272</td>\n",
       "      <td>3455</td>\n",
       "      <td>3261</td>\n",
       "    </tr>\n",
       "    <tr>\n",
       "      <th>3</th>\n",
       "      <td>90000</td>\n",
       "      <td>29239</td>\n",
       "      <td>14027</td>\n",
       "      <td>13559</td>\n",
       "      <td>14331</td>\n",
       "      <td>14948</td>\n",
       "      <td>15549</td>\n",
       "    </tr>\n",
       "    <tr>\n",
       "      <th>4</th>\n",
       "      <td>50000</td>\n",
       "      <td>46990</td>\n",
       "      <td>48233</td>\n",
       "      <td>49291</td>\n",
       "      <td>28314</td>\n",
       "      <td>28959</td>\n",
       "      <td>29547</td>\n",
       "    </tr>\n",
       "    <tr>\n",
       "      <th>5</th>\n",
       "      <td>50000</td>\n",
       "      <td>8617</td>\n",
       "      <td>5670</td>\n",
       "      <td>35835</td>\n",
       "      <td>20940</td>\n",
       "      <td>19146</td>\n",
       "      <td>19131</td>\n",
       "    </tr>\n",
       "  </tbody>\n",
       "</table>\n",
       "</div>"
      ],
      "text/plain": [
       "       X1  X12_abs  X13_abs  X14_abs  X15_abs  X16_abs  X17_abs\n",
       "1   20000     3913     3102      689        0        0        0\n",
       "2  120000     2682     1725     2682     3272     3455     3261\n",
       "3   90000    29239    14027    13559    14331    14948    15549\n",
       "4   50000    46990    48233    49291    28314    28959    29547\n",
       "5   50000     8617     5670    35835    20940    19146    19131"
      ]
     },
     "execution_count": 2,
     "metadata": {},
     "output_type": "execute_result"
    }
   ],
   "source": [
    "# read imputed csv file\n",
    "df = pd.read_csv('csv_files/comp2_working.csv', index_col=0)\n",
    "df.head()"
   ]
  },
  {
   "cell_type": "markdown",
   "metadata": {},
   "source": [
    "### Fixing the Skew of the Features ###"
   ]
  },
  {
   "cell_type": "code",
   "execution_count": 3,
   "metadata": {},
   "outputs": [
    {
     "data": {
      "text/plain": [
       "X1         0.992867\n",
       "X12_abs    2.667725\n",
       "X13_abs    2.708496\n",
       "X14_abs    3.093013\n",
       "X15_abs    2.828133\n",
       "X16_abs    2.881514\n",
       "X17_abs    2.872948\n",
       "dtype: float64"
      ]
     },
     "execution_count": 3,
     "metadata": {},
     "output_type": "execute_result"
    }
   ],
   "source": [
    "# examine skew of each column\n",
    "df.skew()"
   ]
  },
  {
   "cell_type": "code",
   "execution_count": 4,
   "metadata": {},
   "outputs": [
    {
     "data": {
      "image/png": "[encoded data removed]",
      "text/plain": [
       "<Figure size 432x288 with 9 Axes>"
      ]
     },
     "metadata": {},
     "output_type": "display_data"
    }
   ],
   "source": [
    "# examine distribution of each column\n",
    "for col in df.columns:\n",
    "    df.hist(color='blue')\n",
    "    break\n",
    "plt.show()"
   ]
  },
  {
   "cell_type": "code",
   "execution_count": 5,
   "metadata": {},
   "outputs": [
    {
     "data": {
      "text/plain": [
       "-0.23517265168949286"
      ]
     },
     "execution_count": 5,
     "metadata": {},
     "output_type": "execute_result"
    }
   ],
   "source": [
    "df['X1'] = np.cbrt(np.sqrt(df['X1']))\n",
    "df['X1'].skew()"
   ]
  },
  {
   "cell_type": "code",
   "execution_count": 6,
   "metadata": {},
   "outputs": [
    {
     "data": {
      "text/plain": [
       "-0.8521799708525496"
      ]
     },
     "execution_count": 6,
     "metadata": {},
     "output_type": "execute_result"
    }
   ],
   "source": [
    "df['X12_abs'] = np.sqrt(np.cbrt(df['X12_abs']))\n",
    "df['X12_abs'].skew()"
   ]
  },
  {
   "cell_type": "code",
   "execution_count": 7,
   "metadata": {},
   "outputs": [
    {
     "data": {
      "text/plain": [
       "-0.8697602233266669"
      ]
     },
     "execution_count": 7,
     "metadata": {},
     "output_type": "execute_result"
    }
   ],
   "source": [
    "df['X13_abs'] = np.sqrt(np.cbrt(df['X13_abs']))\n",
    "df['X13_abs'].skew()"
   ]
  },
  {
   "cell_type": "code",
   "execution_count": 8,
   "metadata": {},
   "outputs": [
    {
     "data": {
      "text/plain": [
       "-0.8753822430998222"
      ]
     },
     "execution_count": 8,
     "metadata": {},
     "output_type": "execute_result"
    }
   ],
   "source": [
    "df['X14_abs'] = np.sqrt(np.cbrt(df['X14_abs']))\n",
    "df['X14_abs'].skew()"
   ]
  },
  {
   "cell_type": "code",
   "execution_count": 9,
   "metadata": {},
   "outputs": [
    {
     "data": {
      "text/plain": [
       "-0.8722930395277099"
      ]
     },
     "execution_count": 9,
     "metadata": {},
     "output_type": "execute_result"
    }
   ],
   "source": [
    "df['X15_abs'] = np.sqrt(np.cbrt(df['X15_abs']))\n",
    "df['X15_abs'].skew()"
   ]
  },
  {
   "cell_type": "code",
   "execution_count": 10,
   "metadata": {},
   "outputs": [
    {
     "data": {
      "text/plain": [
       "-0.8370839996278904"
      ]
     },
     "execution_count": 10,
     "metadata": {},
     "output_type": "execute_result"
    }
   ],
   "source": [
    "df['X16_abs'] = np.cbrt(np.sqrt(abs(df['X16_abs'])))\n",
    "df['X16_abs'].skew()"
   ]
  },
  {
   "cell_type": "code",
   "execution_count": 11,
   "metadata": {},
   "outputs": [
    {
     "data": {
      "text/plain": [
       "-0.7810086895360645"
      ]
     },
     "execution_count": 11,
     "metadata": {},
     "output_type": "execute_result"
    }
   ],
   "source": [
    "df['X17_abs'] = np.cbrt(np.sqrt(df['X17_abs']))\n",
    "df['X17_abs'].skew()"
   ]
  },
  {
   "cell_type": "markdown",
   "metadata": {},
   "source": [
    "### Verifying that Skew was Fixed ###"
   ]
  },
  {
   "cell_type": "code",
   "execution_count": 12,
   "metadata": {},
   "outputs": [
    {
     "data": {
      "text/plain": [
       "X1        -0.235173\n",
       "X12_abs   -0.852180\n",
       "X13_abs   -0.869760\n",
       "X14_abs   -0.875382\n",
       "X15_abs   -0.872293\n",
       "X16_abs   -0.837084\n",
       "X17_abs   -0.781009\n",
       "dtype: float64"
      ]
     },
     "execution_count": 12,
     "metadata": {},
     "output_type": "execute_result"
    }
   ],
   "source": [
    "# check skew of columns \n",
    "# should be relatively normal (bell-shaped) or as close as possible \n",
    "df.skew()"
   ]
  },
  {
   "cell_type": "code",
   "execution_count": 13,
   "metadata": {},
   "outputs": [
    {
     "data": {
      "image/png": "[encoded data removed]",
      "text/plain": [
       "<Figure size 432x288 with 9 Axes>"
      ]
     },
     "metadata": {},
     "output_type": "display_data"
    }
   ],
   "source": [
    "# visualize distribution of variables \n",
    "for col in df.columns:\n",
    "    df.hist(color='blue')\n",
    "    break\n",
    "plt.show()"
   ]
  },
  {
   "cell_type": "markdown",
   "metadata": {},
   "source": [
    "### Outlier Handling ###"
   ]
  },
  {
   "cell_type": "code",
   "execution_count": 14,
   "metadata": {},
   "outputs": [],
   "source": [
    "for col in df.columns:\n",
    "    u_bound = df[col].mean() + 3* df[col].std()\n",
    "    df[col][df[col] > u_bound] = u_bound"
   ]
  },
  {
   "cell_type": "code",
   "execution_count": 15,
   "metadata": {},
   "outputs": [
    {
     "data": {
      "text/plain": [
       "False    30000\n",
       "Name: X17_abs, dtype: int64"
      ]
     },
     "execution_count": 15,
     "metadata": {},
     "output_type": "execute_result"
    }
   ],
   "source": [
    "# check\n",
    "pd.Series(df[col][df[col]] > u_bound).value_counts()"
   ]
  },
  {
   "cell_type": "code",
   "execution_count": 16,
   "metadata": {},
   "outputs": [],
   "source": [
    "for col in df.columns:\n",
    "    l_bound = df[col].mean() - 3* df[col].std()\n",
    "    df[col][df[col] < l_bound] = l_bound"
   ]
  },
  {
   "cell_type": "code",
   "execution_count": 17,
   "metadata": {},
   "outputs": [
    {
     "data": {
      "text/plain": [
       "False    30000\n",
       "Name: X17_abs, dtype: int64"
      ]
     },
     "execution_count": 17,
     "metadata": {},
     "output_type": "execute_result"
    }
   ],
   "source": [
    "# check\n",
    "pd.Series(df[col][df[col]] < l_bound).value_counts()"
   ]
  },
  {
   "cell_type": "markdown",
   "metadata": {},
   "source": [
    "### Verifying that Outliers were Fixed ###"
   ]
  },
  {
   "cell_type": "code",
   "execution_count": 18,
   "metadata": {},
   "outputs": [
    {
     "data": {
      "image/png": "[encoded data removed]",
      "text/plain": [
       "<Figure size 432x288 with 1 Axes>"
      ]
     },
     "metadata": {},
     "output_type": "display_data"
    }
   ],
   "source": [
    "plt.boxplot(df['X1'], whis='range')\n",
    "plt.show()"
   ]
  },
  {
   "cell_type": "code",
   "execution_count": 19,
   "metadata": {},
   "outputs": [
    {
     "data": {
      "image/png": "[encoded data removed]",
      "text/plain": [
       "<Figure size 432x288 with 1 Axes>"
      ]
     },
     "metadata": {},
     "output_type": "display_data"
    }
   ],
   "source": [
    "plt.boxplot(df['X12_abs'], whis='range')\n",
    "plt.show()"
   ]
  },
  {
   "cell_type": "code",
   "execution_count": 20,
   "metadata": {},
   "outputs": [
    {
     "data": {
      "image/png": "[encoded data removed]",
      "text/plain": [
       "<Figure size 432x288 with 1 Axes>"
      ]
     },
     "metadata": {},
     "output_type": "display_data"
    }
   ],
   "source": [
    "plt.boxplot(df['X13_abs'], whis='range')\n",
    "plt.show()"
   ]
  },
  {
   "cell_type": "code",
   "execution_count": 21,
   "metadata": {},
   "outputs": [
    {
     "data": {
      "image/png": "[encoded data removed]",
      "text/plain": [
       "<Figure size 432x288 with 1 Axes>"
      ]
     },
     "metadata": {},
     "output_type": "display_data"
    }
   ],
   "source": [
    "plt.boxplot(df['X14_abs'], whis='range')\n",
    "plt.show()"
   ]
  },
  {
   "cell_type": "code",
   "execution_count": 22,
   "metadata": {},
   "outputs": [
    {
     "data": {
      "image/png": "[encoded data removed]",
      "text/plain": [
       "<Figure size 432x288 with 1 Axes>"
      ]
     },
     "metadata": {},
     "output_type": "display_data"
    }
   ],
   "source": [
    "plt.boxplot(df['X15_abs'], whis='range')\n",
    "plt.show()"
   ]
  },
  {
   "cell_type": "code",
   "execution_count": 23,
   "metadata": {},
   "outputs": [
    {
     "data": {
      "image/png": "[encoded data removed]",
      "text/plain": [
       "<Figure size 432x288 with 1 Axes>"
      ]
     },
     "metadata": {},
     "output_type": "display_data"
    }
   ],
   "source": [
    "plt.boxplot(df['X16_abs'], whis='range')\n",
    "plt.show()"
   ]
  },
  {
   "cell_type": "code",
   "execution_count": 24,
   "metadata": {},
   "outputs": [
    {
     "data": {
      "image/png": "[encoded data removed]",
      "text/plain": [
       "<Figure size 432x288 with 1 Axes>"
      ]
     },
     "metadata": {},
     "output_type": "display_data"
    }
   ],
   "source": [
    "plt.boxplot(df['X17_abs'], whis='range')\n",
    "plt.show()"
   ]
  },
  {
   "cell_type": "markdown",
   "metadata": {},
   "source": [
    "### Scaling the Data ###"
   ]
  },
  {
   "cell_type": "code",
   "execution_count": 25,
   "metadata": {},
   "outputs": [],
   "source": [
    "# import the preprocessing package from sklearn \n",
    "from sklearn import preprocessing\n",
    "# define column names\n",
    "names = df.columns\n",
    "\n",
    "# create scaler variable \n",
    "scaler = preprocessing.StandardScaler()\n",
    "\n",
    "# fit and scale data \n",
    "dfstandard = scaler.fit_transform(df)\n",
    "dfstandard = pd.DataFrame(dfstandard, columns=names)"
   ]
  },
  {
   "cell_type": "markdown",
   "metadata": {},
   "source": [
    "## Verifying that the Data was Scaled ###"
   ]
  },
  {
   "cell_type": "code",
   "execution_count": 26,
   "metadata": {},
   "outputs": [
    {
     "data": {
      "text/html": [
       "<div>\n",
       "<style scoped>\n",
       "    .dataframe tbody tr th:only-of-type {\n",
       "        vertical-align: middle;\n",
       "    }\n",
       "\n",
       "    .dataframe tbody tr th {\n",
       "        vertical-align: top;\n",
       "    }\n",
       "\n",
       "    .dataframe thead th {\n",
       "        text-align: right;\n",
       "    }\n",
       "</style>\n",
       "<table border=\"1\" class=\"dataframe\">\n",
       "  <thead>\n",
       "    <tr style=\"text-align: right;\">\n",
       "      <th></th>\n",
       "      <th>X1</th>\n",
       "      <th>X12_abs</th>\n",
       "      <th>X13_abs</th>\n",
       "      <th>X14_abs</th>\n",
       "      <th>X15_abs</th>\n",
       "      <th>X16_abs</th>\n",
       "      <th>X17_abs</th>\n",
       "    </tr>\n",
       "  </thead>\n",
       "  <tbody>\n",
       "    <tr>\n",
       "      <th>count</th>\n",
       "      <td>3.000000e+04</td>\n",
       "      <td>3.000000e+04</td>\n",
       "      <td>3.000000e+04</td>\n",
       "      <td>3.000000e+04</td>\n",
       "      <td>3.000000e+04</td>\n",
       "      <td>3.000000e+04</td>\n",
       "      <td>3.000000e+04</td>\n",
       "    </tr>\n",
       "    <tr>\n",
       "      <th>mean</th>\n",
       "      <td>-1.044024e-15</td>\n",
       "      <td>-1.063446e-16</td>\n",
       "      <td>7.626492e-17</td>\n",
       "      <td>-3.789561e-17</td>\n",
       "      <td>-5.258016e-17</td>\n",
       "      <td>-2.178998e-17</td>\n",
       "      <td>2.160050e-16</td>\n",
       "    </tr>\n",
       "    <tr>\n",
       "      <th>std</th>\n",
       "      <td>1.000017e+00</td>\n",
       "      <td>1.000017e+00</td>\n",
       "      <td>1.000017e+00</td>\n",
       "      <td>1.000017e+00</td>\n",
       "      <td>1.000017e+00</td>\n",
       "      <td>1.000017e+00</td>\n",
       "      <td>1.000017e+00</td>\n",
       "    </tr>\n",
       "    <tr>\n",
       "      <th>min</th>\n",
       "      <td>-2.277309e+00</td>\n",
       "      <td>-2.515004e+00</td>\n",
       "      <td>-2.366661e+00</td>\n",
       "      <td>-2.280506e+00</td>\n",
       "      <td>-2.211690e+00</td>\n",
       "      <td>-2.134718e+00</td>\n",
       "      <td>-2.019201e+00</td>\n",
       "    </tr>\n",
       "    <tr>\n",
       "      <th>25%</th>\n",
       "      <td>-9.378709e-01</td>\n",
       "      <td>-5.429758e-01</td>\n",
       "      <td>-5.242382e-01</td>\n",
       "      <td>-5.040768e-01</td>\n",
       "      <td>-4.930736e-01</td>\n",
       "      <td>-5.071967e-01</td>\n",
       "      <td>-5.234551e-01</td>\n",
       "    </tr>\n",
       "    <tr>\n",
       "      <th>50%</th>\n",
       "      <td>1.279088e-01</td>\n",
       "      <td>1.599807e-01</td>\n",
       "      <td>1.789996e-01</td>\n",
       "      <td>1.904228e-01</td>\n",
       "      <td>2.160076e-01</td>\n",
       "      <td>2.428477e-01</td>\n",
       "      <td>2.626159e-01</td>\n",
       "    </tr>\n",
       "    <tr>\n",
       "      <th>75%</th>\n",
       "      <td>7.631813e-01</td>\n",
       "      <td>6.972307e-01</td>\n",
       "      <td>6.931351e-01</td>\n",
       "      <td>6.858096e-01</td>\n",
       "      <td>6.809038e-01</td>\n",
       "      <td>6.829543e-01</td>\n",
       "      <td>7.017711e-01</td>\n",
       "    </tr>\n",
       "    <tr>\n",
       "      <th>max</th>\n",
       "      <td>2.748667e+00</td>\n",
       "      <td>2.493538e+00</td>\n",
       "      <td>2.457974e+00</td>\n",
       "      <td>2.877805e+00</td>\n",
       "      <td>2.396223e+00</td>\n",
       "      <td>2.446070e+00</td>\n",
       "      <td>2.445836e+00</td>\n",
       "    </tr>\n",
       "  </tbody>\n",
       "</table>\n",
       "</div>"
      ],
      "text/plain": [
       "                 X1       X12_abs       X13_abs       X14_abs       X15_abs  \\\n",
       "count  3.000000e+04  3.000000e+04  3.000000e+04  3.000000e+04  3.000000e+04   \n",
       "mean  -1.044024e-15 -1.063446e-16  7.626492e-17 -3.789561e-17 -5.258016e-17   \n",
       "std    1.000017e+00  1.000017e+00  1.000017e+00  1.000017e+00  1.000017e+00   \n",
       "min   -2.277309e+00 -2.515004e+00 -2.366661e+00 -2.280506e+00 -2.211690e+00   \n",
       "25%   -9.378709e-01 -5.429758e-01 -5.242382e-01 -5.040768e-01 -4.930736e-01   \n",
       "50%    1.279088e-01  1.599807e-01  1.789996e-01  1.904228e-01  2.160076e-01   \n",
       "75%    7.631813e-01  6.972307e-01  6.931351e-01  6.858096e-01  6.809038e-01   \n",
       "max    2.748667e+00  2.493538e+00  2.457974e+00  2.877805e+00  2.396223e+00   \n",
       "\n",
       "            X16_abs       X17_abs  \n",
       "count  3.000000e+04  3.000000e+04  \n",
       "mean  -2.178998e-17  2.160050e-16  \n",
       "std    1.000017e+00  1.000017e+00  \n",
       "min   -2.134718e+00 -2.019201e+00  \n",
       "25%   -5.071967e-01 -5.234551e-01  \n",
       "50%    2.428477e-01  2.626159e-01  \n",
       "75%    6.829543e-01  7.017711e-01  \n",
       "max    2.446070e+00  2.445836e+00  "
      ]
     },
     "execution_count": 26,
     "metadata": {},
     "output_type": "execute_result"
    }
   ],
   "source": [
    "# check if data was scaled correctly\n",
    "# mean and stdev should be equal to or almost equal to 0 and 1 respectively \n",
    "dfstandard.describe()"
   ]
  },
  {
   "cell_type": "markdown",
   "metadata": {},
   "source": [
    "### Combining the DataFrames ###"
   ]
  },
  {
   "cell_type": "code",
   "execution_count": 28,
   "metadata": {},
   "outputs": [],
   "source": [
    "# read in the y and cat csv files \n",
    "dfy = pd.read_csv('../csv_files/comp2_y.csv', index_col=0)\n",
    "dfcat = pd.read_csv('../csv_files/comp2_cat.csv', index_col=0)"
   ]
  },
  {
   "cell_type": "code",
   "execution_count": 29,
   "metadata": {},
   "outputs": [
    {
     "data": {
      "text/html": [
       "<div>\n",
       "<style scoped>\n",
       "    .dataframe tbody tr th:only-of-type {\n",
       "        vertical-align: middle;\n",
       "    }\n",
       "\n",
       "    .dataframe tbody tr th {\n",
       "        vertical-align: top;\n",
       "    }\n",
       "\n",
       "    .dataframe thead th {\n",
       "        text-align: right;\n",
       "    }\n",
       "</style>\n",
       "<table border=\"1\" class=\"dataframe\">\n",
       "  <thead>\n",
       "    <tr style=\"text-align: right;\">\n",
       "      <th></th>\n",
       "      <th>X1</th>\n",
       "      <th>X12_abs</th>\n",
       "      <th>X13_abs</th>\n",
       "      <th>X14_abs</th>\n",
       "      <th>X15_abs</th>\n",
       "      <th>X16_abs</th>\n",
       "      <th>X17_abs</th>\n",
       "      <th>X2</th>\n",
       "      <th>X3</th>\n",
       "      <th>X4</th>\n",
       "      <th>...</th>\n",
       "      <th>X16_sign</th>\n",
       "      <th>X16_monthlydif</th>\n",
       "      <th>X17_sign</th>\n",
       "      <th>X17_monthlydif</th>\n",
       "      <th>X18_binary</th>\n",
       "      <th>X19_binary</th>\n",
       "      <th>X20_binary</th>\n",
       "      <th>X21_binary</th>\n",
       "      <th>X22_binary</th>\n",
       "      <th>X23_binary</th>\n",
       "    </tr>\n",
       "  </thead>\n",
       "  <tbody>\n",
       "    <tr>\n",
       "      <th>1</th>\n",
       "      <td>-0.043526</td>\n",
       "      <td>-0.636826</td>\n",
       "      <td>-0.691325</td>\n",
       "      <td>-0.514247</td>\n",
       "      <td>-0.401965</td>\n",
       "      <td>-0.331057</td>\n",
       "      <td>-0.288536</td>\n",
       "      <td>2</td>\n",
       "      <td>2</td>\n",
       "      <td>1</td>\n",
       "      <td>...</td>\n",
       "      <td>0</td>\n",
       "      <td>2</td>\n",
       "      <td>0</td>\n",
       "      <td>1</td>\n",
       "      <td>0</td>\n",
       "      <td>1</td>\n",
       "      <td>0</td>\n",
       "      <td>0</td>\n",
       "      <td>0</td>\n",
       "      <td>0</td>\n",
       "    </tr>\n",
       "    <tr>\n",
       "      <th>2</th>\n",
       "      <td>-0.351920</td>\n",
       "      <td>0.281748</td>\n",
       "      <td>0.009073</td>\n",
       "      <td>0.033419</td>\n",
       "      <td>0.103162</td>\n",
       "      <td>0.167664</td>\n",
       "      <td>0.226085</td>\n",
       "      <td>2</td>\n",
       "      <td>2</td>\n",
       "      <td>2</td>\n",
       "      <td>...</td>\n",
       "      <td>1</td>\n",
       "      <td>2</td>\n",
       "      <td>1</td>\n",
       "      <td>1</td>\n",
       "      <td>0</td>\n",
       "      <td>1</td>\n",
       "      <td>1</td>\n",
       "      <td>1</td>\n",
       "      <td>0</td>\n",
       "      <td>1</td>\n",
       "    </tr>\n",
       "    <tr>\n",
       "      <th>3</th>\n",
       "      <td>-0.937871</td>\n",
       "      <td>0.511870</td>\n",
       "      <td>0.552072</td>\n",
       "      <td>0.588772</td>\n",
       "      <td>0.381358</td>\n",
       "      <td>0.435939</td>\n",
       "      <td>0.479649</td>\n",
       "      <td>2</td>\n",
       "      <td>2</td>\n",
       "      <td>2</td>\n",
       "      <td>...</td>\n",
       "      <td>1</td>\n",
       "      <td>2</td>\n",
       "      <td>1</td>\n",
       "      <td>1</td>\n",
       "      <td>1</td>\n",
       "      <td>1</td>\n",
       "      <td>1</td>\n",
       "      <td>1</td>\n",
       "      <td>1</td>\n",
       "      <td>1</td>\n",
       "    </tr>\n",
       "    <tr>\n",
       "      <th>4</th>\n",
       "      <td>-0.937871</td>\n",
       "      <td>-0.233509</td>\n",
       "      <td>-0.323821</td>\n",
       "      <td>0.440290</td>\n",
       "      <td>0.254197</td>\n",
       "      <td>0.264630</td>\n",
       "      <td>0.305020</td>\n",
       "      <td>2</td>\n",
       "      <td>2</td>\n",
       "      <td>1</td>\n",
       "      <td>...</td>\n",
       "      <td>1</td>\n",
       "      <td>2</td>\n",
       "      <td>1</td>\n",
       "      <td>1</td>\n",
       "      <td>1</td>\n",
       "      <td>1</td>\n",
       "      <td>1</td>\n",
       "      <td>1</td>\n",
       "      <td>1</td>\n",
       "      <td>1</td>\n",
       "    </tr>\n",
       "    <tr>\n",
       "      <th>5</th>\n",
       "      <td>-0.937871</td>\n",
       "      <td>0.675122</td>\n",
       "      <td>0.635061</td>\n",
       "      <td>0.664312</td>\n",
       "      <td>0.222876</td>\n",
       "      <td>0.274409</td>\n",
       "      <td>0.322760</td>\n",
       "      <td>1</td>\n",
       "      <td>2</td>\n",
       "      <td>1</td>\n",
       "      <td>...</td>\n",
       "      <td>1</td>\n",
       "      <td>2</td>\n",
       "      <td>1</td>\n",
       "      <td>1</td>\n",
       "      <td>1</td>\n",
       "      <td>1</td>\n",
       "      <td>1</td>\n",
       "      <td>1</td>\n",
       "      <td>1</td>\n",
       "      <td>1</td>\n",
       "    </tr>\n",
       "  </tbody>\n",
       "</table>\n",
       "<p>5 rows × 35 columns</p>\n",
       "</div>"
      ],
      "text/plain": [
       "         X1   X12_abs   X13_abs   X14_abs   X15_abs   X16_abs   X17_abs  X2  \\\n",
       "1 -0.043526 -0.636826 -0.691325 -0.514247 -0.401965 -0.331057 -0.288536   2   \n",
       "2 -0.351920  0.281748  0.009073  0.033419  0.103162  0.167664  0.226085   2   \n",
       "3 -0.937871  0.511870  0.552072  0.588772  0.381358  0.435939  0.479649   2   \n",
       "4 -0.937871 -0.233509 -0.323821  0.440290  0.254197  0.264630  0.305020   2   \n",
       "5 -0.937871  0.675122  0.635061  0.664312  0.222876  0.274409  0.322760   1   \n",
       "\n",
       "   X3  X4     ...      X16_sign  X16_monthlydif  X17_sign  X17_monthlydif  \\\n",
       "1   2   1     ...             0               2         0               1   \n",
       "2   2   2     ...             1               2         1               1   \n",
       "3   2   2     ...             1               2         1               1   \n",
       "4   2   1     ...             1               2         1               1   \n",
       "5   2   1     ...             1               2         1               1   \n",
       "\n",
       "   X18_binary  X19_binary  X20_binary  X21_binary  X22_binary  X23_binary  \n",
       "1           0           1           0           0           0           0  \n",
       "2           0           1           1           1           0           1  \n",
       "3           1           1           1           1           1           1  \n",
       "4           1           1           1           1           1           1  \n",
       "5           1           1           1           1           1           1  \n",
       "\n",
       "[5 rows x 35 columns]"
      ]
     },
     "execution_count": 29,
     "metadata": {},
     "output_type": "execute_result"
    }
   ],
   "source": [
    "# concat working df with dfcat\n",
    "df = pd.concat([dfstandard, dfcat], axis=1, join='inner')\n",
    "df.head()"
   ]
  },
  {
   "cell_type": "code",
   "execution_count": 30,
   "metadata": {},
   "outputs": [
    {
     "data": {
      "text/html": [
       "<div>\n",
       "<style scoped>\n",
       "    .dataframe tbody tr th:only-of-type {\n",
       "        vertical-align: middle;\n",
       "    }\n",
       "\n",
       "    .dataframe tbody tr th {\n",
       "        vertical-align: top;\n",
       "    }\n",
       "\n",
       "    .dataframe thead th {\n",
       "        text-align: right;\n",
       "    }\n",
       "</style>\n",
       "<table border=\"1\" class=\"dataframe\">\n",
       "  <thead>\n",
       "    <tr style=\"text-align: right;\">\n",
       "      <th></th>\n",
       "      <th>X1</th>\n",
       "      <th>X12_abs</th>\n",
       "      <th>X13_abs</th>\n",
       "      <th>X14_abs</th>\n",
       "      <th>X15_abs</th>\n",
       "      <th>X16_abs</th>\n",
       "      <th>X17_abs</th>\n",
       "      <th>X2</th>\n",
       "      <th>X3</th>\n",
       "      <th>X4</th>\n",
       "      <th>...</th>\n",
       "      <th>X16_sign</th>\n",
       "      <th>X16_monthlydif</th>\n",
       "      <th>X17_sign</th>\n",
       "      <th>X17_monthlydif</th>\n",
       "      <th>X18_binary</th>\n",
       "      <th>X19_binary</th>\n",
       "      <th>X20_binary</th>\n",
       "      <th>X21_binary</th>\n",
       "      <th>X22_binary</th>\n",
       "      <th>X23_binary</th>\n",
       "    </tr>\n",
       "  </thead>\n",
       "  <tbody>\n",
       "    <tr>\n",
       "      <th>29995</th>\n",
       "      <td>0.656726</td>\n",
       "      <td>1.301952</td>\n",
       "      <td>1.310341</td>\n",
       "      <td>1.368004</td>\n",
       "      <td>0.920832</td>\n",
       "      <td>0.468587</td>\n",
       "      <td>0.236340</td>\n",
       "      <td>1</td>\n",
       "      <td>2</td>\n",
       "      <td>2</td>\n",
       "      <td>...</td>\n",
       "      <td>1</td>\n",
       "      <td>2</td>\n",
       "      <td>1</td>\n",
       "      <td>1</td>\n",
       "      <td>1</td>\n",
       "      <td>1</td>\n",
       "      <td>0</td>\n",
       "      <td>1</td>\n",
       "      <td>0</td>\n",
       "      <td>1</td>\n",
       "    </tr>\n",
       "    <tr>\n",
       "      <th>29996</th>\n",
       "      <td>0.206076</td>\n",
       "      <td>-0.777173</td>\n",
       "      <td>-0.675053</td>\n",
       "      <td>-0.433943</td>\n",
       "      <td>-0.070369</td>\n",
       "      <td>-0.204492</td>\n",
       "      <td>-2.019201</td>\n",
       "      <td>1</td>\n",
       "      <td>3</td>\n",
       "      <td>1</td>\n",
       "      <td>...</td>\n",
       "      <td>1</td>\n",
       "      <td>2</td>\n",
       "      <td>1</td>\n",
       "      <td>1</td>\n",
       "      <td>1</td>\n",
       "      <td>1</td>\n",
       "      <td>1</td>\n",
       "      <td>1</td>\n",
       "      <td>1</td>\n",
       "      <td>1</td>\n",
       "    </tr>\n",
       "    <tr>\n",
       "      <th>29997</th>\n",
       "      <td>-1.402505</td>\n",
       "      <td>-0.545591</td>\n",
       "      <td>-0.494798</td>\n",
       "      <td>-0.506002</td>\n",
       "      <td>0.252979</td>\n",
       "      <td>0.293726</td>\n",
       "      <td>0.309574</td>\n",
       "      <td>1</td>\n",
       "      <td>3</td>\n",
       "      <td>2</td>\n",
       "      <td>...</td>\n",
       "      <td>1</td>\n",
       "      <td>2</td>\n",
       "      <td>0</td>\n",
       "      <td>1</td>\n",
       "      <td>1</td>\n",
       "      <td>1</td>\n",
       "      <td>1</td>\n",
       "      <td>1</td>\n",
       "      <td>0</td>\n",
       "      <td>0</td>\n",
       "    </tr>\n",
       "    <tr>\n",
       "      <th>29998</th>\n",
       "      <td>-0.473979</td>\n",
       "      <td>-0.783775</td>\n",
       "      <td>0.798071</td>\n",
       "      <td>0.805541</td>\n",
       "      <td>0.664916</td>\n",
       "      <td>0.080401</td>\n",
       "      <td>0.698935</td>\n",
       "      <td>1</td>\n",
       "      <td>2</td>\n",
       "      <td>2</td>\n",
       "      <td>...</td>\n",
       "      <td>1</td>\n",
       "      <td>2</td>\n",
       "      <td>1</td>\n",
       "      <td>1</td>\n",
       "      <td>0</td>\n",
       "      <td>0</td>\n",
       "      <td>1</td>\n",
       "      <td>1</td>\n",
       "      <td>1</td>\n",
       "      <td>1</td>\n",
       "    </tr>\n",
       "    <tr>\n",
       "      <th>29999</th>\n",
       "      <td>-0.937871</td>\n",
       "      <td>0.521868</td>\n",
       "      <td>0.558811</td>\n",
       "      <td>0.593343</td>\n",
       "      <td>0.493900</td>\n",
       "      <td>0.484873</td>\n",
       "      <td>0.220369</td>\n",
       "      <td>1</td>\n",
       "      <td>3</td>\n",
       "      <td>1</td>\n",
       "      <td>...</td>\n",
       "      <td>1</td>\n",
       "      <td>2</td>\n",
       "      <td>1</td>\n",
       "      <td>1</td>\n",
       "      <td>1</td>\n",
       "      <td>1</td>\n",
       "      <td>1</td>\n",
       "      <td>1</td>\n",
       "      <td>1</td>\n",
       "      <td>1</td>\n",
       "    </tr>\n",
       "  </tbody>\n",
       "</table>\n",
       "<p>5 rows × 35 columns</p>\n",
       "</div>"
      ],
      "text/plain": [
       "             X1   X12_abs   X13_abs   X14_abs   X15_abs   X16_abs   X17_abs  \\\n",
       "29995  0.656726  1.301952  1.310341  1.368004  0.920832  0.468587  0.236340   \n",
       "29996  0.206076 -0.777173 -0.675053 -0.433943 -0.070369 -0.204492 -2.019201   \n",
       "29997 -1.402505 -0.545591 -0.494798 -0.506002  0.252979  0.293726  0.309574   \n",
       "29998 -0.473979 -0.783775  0.798071  0.805541  0.664916  0.080401  0.698935   \n",
       "29999 -0.937871  0.521868  0.558811  0.593343  0.493900  0.484873  0.220369   \n",
       "\n",
       "       X2  X3  X4     ...      X16_sign  X16_monthlydif  X17_sign  \\\n",
       "29995   1   2   2     ...             1               2         1   \n",
       "29996   1   3   1     ...             1               2         1   \n",
       "29997   1   3   2     ...             1               2         0   \n",
       "29998   1   2   2     ...             1               2         1   \n",
       "29999   1   3   1     ...             1               2         1   \n",
       "\n",
       "       X17_monthlydif  X18_binary  X19_binary  X20_binary  X21_binary  \\\n",
       "29995               1           1           1           0           1   \n",
       "29996               1           1           1           1           1   \n",
       "29997               1           1           1           1           1   \n",
       "29998               1           0           0           1           1   \n",
       "29999               1           1           1           1           1   \n",
       "\n",
       "       X22_binary  X23_binary  \n",
       "29995           0           1  \n",
       "29996           1           1  \n",
       "29997           0           0  \n",
       "29998           1           1  \n",
       "29999           1           1  \n",
       "\n",
       "[5 rows x 35 columns]"
      ]
     },
     "execution_count": 30,
     "metadata": {},
     "output_type": "execute_result"
    }
   ],
   "source": [
    "# just making sure that nothing funky happened\n",
    "df.tail()"
   ]
  },
  {
   "cell_type": "code",
   "execution_count": 31,
   "metadata": {},
   "outputs": [
    {
     "data": {
      "text/html": [
       "<div>\n",
       "<style scoped>\n",
       "    .dataframe tbody tr th:only-of-type {\n",
       "        vertical-align: middle;\n",
       "    }\n",
       "\n",
       "    .dataframe tbody tr th {\n",
       "        vertical-align: top;\n",
       "    }\n",
       "\n",
       "    .dataframe thead th {\n",
       "        text-align: right;\n",
       "    }\n",
       "</style>\n",
       "<table border=\"1\" class=\"dataframe\">\n",
       "  <thead>\n",
       "    <tr style=\"text-align: right;\">\n",
       "      <th></th>\n",
       "      <th>X1</th>\n",
       "      <th>X12_abs</th>\n",
       "      <th>X13_abs</th>\n",
       "      <th>X14_abs</th>\n",
       "      <th>X15_abs</th>\n",
       "      <th>X16_abs</th>\n",
       "      <th>X17_abs</th>\n",
       "      <th>X2</th>\n",
       "      <th>X3</th>\n",
       "      <th>X4</th>\n",
       "      <th>...</th>\n",
       "      <th>X16_monthlydif</th>\n",
       "      <th>X17_sign</th>\n",
       "      <th>X17_monthlydif</th>\n",
       "      <th>X18_binary</th>\n",
       "      <th>X19_binary</th>\n",
       "      <th>X20_binary</th>\n",
       "      <th>X21_binary</th>\n",
       "      <th>X22_binary</th>\n",
       "      <th>X23_binary</th>\n",
       "      <th>Y</th>\n",
       "    </tr>\n",
       "  </thead>\n",
       "  <tbody>\n",
       "    <tr>\n",
       "      <th>1</th>\n",
       "      <td>-0.043526</td>\n",
       "      <td>-0.636826</td>\n",
       "      <td>-0.691325</td>\n",
       "      <td>-0.514247</td>\n",
       "      <td>-0.401965</td>\n",
       "      <td>-0.331057</td>\n",
       "      <td>-0.288536</td>\n",
       "      <td>2</td>\n",
       "      <td>2</td>\n",
       "      <td>1</td>\n",
       "      <td>...</td>\n",
       "      <td>2</td>\n",
       "      <td>0</td>\n",
       "      <td>1</td>\n",
       "      <td>0</td>\n",
       "      <td>1</td>\n",
       "      <td>0</td>\n",
       "      <td>0</td>\n",
       "      <td>0</td>\n",
       "      <td>0</td>\n",
       "      <td>1</td>\n",
       "    </tr>\n",
       "    <tr>\n",
       "      <th>2</th>\n",
       "      <td>-0.351920</td>\n",
       "      <td>0.281748</td>\n",
       "      <td>0.009073</td>\n",
       "      <td>0.033419</td>\n",
       "      <td>0.103162</td>\n",
       "      <td>0.167664</td>\n",
       "      <td>0.226085</td>\n",
       "      <td>2</td>\n",
       "      <td>2</td>\n",
       "      <td>2</td>\n",
       "      <td>...</td>\n",
       "      <td>2</td>\n",
       "      <td>1</td>\n",
       "      <td>1</td>\n",
       "      <td>0</td>\n",
       "      <td>1</td>\n",
       "      <td>1</td>\n",
       "      <td>1</td>\n",
       "      <td>0</td>\n",
       "      <td>1</td>\n",
       "      <td>1</td>\n",
       "    </tr>\n",
       "    <tr>\n",
       "      <th>3</th>\n",
       "      <td>-0.937871</td>\n",
       "      <td>0.511870</td>\n",
       "      <td>0.552072</td>\n",
       "      <td>0.588772</td>\n",
       "      <td>0.381358</td>\n",
       "      <td>0.435939</td>\n",
       "      <td>0.479649</td>\n",
       "      <td>2</td>\n",
       "      <td>2</td>\n",
       "      <td>2</td>\n",
       "      <td>...</td>\n",
       "      <td>2</td>\n",
       "      <td>1</td>\n",
       "      <td>1</td>\n",
       "      <td>1</td>\n",
       "      <td>1</td>\n",
       "      <td>1</td>\n",
       "      <td>1</td>\n",
       "      <td>1</td>\n",
       "      <td>1</td>\n",
       "      <td>0</td>\n",
       "    </tr>\n",
       "    <tr>\n",
       "      <th>4</th>\n",
       "      <td>-0.937871</td>\n",
       "      <td>-0.233509</td>\n",
       "      <td>-0.323821</td>\n",
       "      <td>0.440290</td>\n",
       "      <td>0.254197</td>\n",
       "      <td>0.264630</td>\n",
       "      <td>0.305020</td>\n",
       "      <td>2</td>\n",
       "      <td>2</td>\n",
       "      <td>1</td>\n",
       "      <td>...</td>\n",
       "      <td>2</td>\n",
       "      <td>1</td>\n",
       "      <td>1</td>\n",
       "      <td>1</td>\n",
       "      <td>1</td>\n",
       "      <td>1</td>\n",
       "      <td>1</td>\n",
       "      <td>1</td>\n",
       "      <td>1</td>\n",
       "      <td>0</td>\n",
       "    </tr>\n",
       "    <tr>\n",
       "      <th>5</th>\n",
       "      <td>-0.937871</td>\n",
       "      <td>0.675122</td>\n",
       "      <td>0.635061</td>\n",
       "      <td>0.664312</td>\n",
       "      <td>0.222876</td>\n",
       "      <td>0.274409</td>\n",
       "      <td>0.322760</td>\n",
       "      <td>1</td>\n",
       "      <td>2</td>\n",
       "      <td>1</td>\n",
       "      <td>...</td>\n",
       "      <td>2</td>\n",
       "      <td>1</td>\n",
       "      <td>1</td>\n",
       "      <td>1</td>\n",
       "      <td>1</td>\n",
       "      <td>1</td>\n",
       "      <td>1</td>\n",
       "      <td>1</td>\n",
       "      <td>1</td>\n",
       "      <td>0</td>\n",
       "    </tr>\n",
       "  </tbody>\n",
       "</table>\n",
       "<p>5 rows × 36 columns</p>\n",
       "</div>"
      ],
      "text/plain": [
       "         X1   X12_abs   X13_abs   X14_abs   X15_abs   X16_abs   X17_abs  X2  \\\n",
       "1 -0.043526 -0.636826 -0.691325 -0.514247 -0.401965 -0.331057 -0.288536   2   \n",
       "2 -0.351920  0.281748  0.009073  0.033419  0.103162  0.167664  0.226085   2   \n",
       "3 -0.937871  0.511870  0.552072  0.588772  0.381358  0.435939  0.479649   2   \n",
       "4 -0.937871 -0.233509 -0.323821  0.440290  0.254197  0.264630  0.305020   2   \n",
       "5 -0.937871  0.675122  0.635061  0.664312  0.222876  0.274409  0.322760   1   \n",
       "\n",
       "   X3  X4 ...  X16_monthlydif  X17_sign  X17_monthlydif  X18_binary  \\\n",
       "1   2   1 ...               2         0               1           0   \n",
       "2   2   2 ...               2         1               1           0   \n",
       "3   2   2 ...               2         1               1           1   \n",
       "4   2   1 ...               2         1               1           1   \n",
       "5   2   1 ...               2         1               1           1   \n",
       "\n",
       "   X19_binary  X20_binary  X21_binary  X22_binary  X23_binary  Y  \n",
       "1           1           0           0           0           0  1  \n",
       "2           1           1           1           0           1  1  \n",
       "3           1           1           1           1           1  0  \n",
       "4           1           1           1           1           1  0  \n",
       "5           1           1           1           1           1  0  \n",
       "\n",
       "[5 rows x 36 columns]"
      ]
     },
     "execution_count": 31,
     "metadata": {},
     "output_type": "execute_result"
    }
   ],
   "source": [
    "# concat df with target feature\n",
    "df = pd.concat([df, dfy],axis=1,join='inner')\n",
    "df.head()"
   ]
  },
  {
   "cell_type": "code",
   "execution_count": 32,
   "metadata": {},
   "outputs": [
    {
     "data": {
      "text/plain": [
       "Index(['X1', 'X12_abs', 'X13_abs', 'X14_abs', 'X15_abs', 'X16_abs', 'X17_abs',\n",
       "       'X2', 'X3', 'X4', 'X5_Age_Bins', 'X6_Payment_Bins', 'X7_Payment_Bins',\n",
       "       'X8_Payment_Bins', 'X9_Payment_Bins', 'X10_Payment_Bins',\n",
       "       'X11_Payment_Bins', 'X12_sign', 'X12_monthlydif', 'X13_sign',\n",
       "       'X13_monthlydif', 'X14_sign', 'X14_monthlydif', 'X15_sign',\n",
       "       'X15_monthlydif', 'X16_sign', 'X16_monthlydif', 'X17_sign',\n",
       "       'X17_monthlydif', 'X18_binary', 'X19_binary', 'X20_binary',\n",
       "       'X21_binary', 'X22_binary', 'X23_binary', 'Y'],\n",
       "      dtype='object')"
      ]
     },
     "execution_count": 32,
     "metadata": {},
     "output_type": "execute_result"
    }
   ],
   "source": [
    "# get a list of the column names \n",
    "# see that they are out of order - will need to fix this later \n",
    "df.columns"
   ]
  },
  {
   "cell_type": "code",
   "execution_count": 33,
   "metadata": {},
   "outputs": [
    {
     "data": {
      "text/html": [
       "<div>\n",
       "<style scoped>\n",
       "    .dataframe tbody tr th:only-of-type {\n",
       "        vertical-align: middle;\n",
       "    }\n",
       "\n",
       "    .dataframe tbody tr th {\n",
       "        vertical-align: top;\n",
       "    }\n",
       "\n",
       "    .dataframe thead th {\n",
       "        text-align: right;\n",
       "    }\n",
       "</style>\n",
       "<table border=\"1\" class=\"dataframe\">\n",
       "  <thead>\n",
       "    <tr style=\"text-align: right;\">\n",
       "      <th></th>\n",
       "      <th>X1</th>\n",
       "      <th>X2</th>\n",
       "      <th>X3</th>\n",
       "      <th>X4</th>\n",
       "      <th>X5_Age_Bins</th>\n",
       "      <th>X6_Payment_Bins</th>\n",
       "      <th>X7_Payment_Bins</th>\n",
       "      <th>X8_Payment_Bins</th>\n",
       "      <th>X9_Payment_Bins</th>\n",
       "      <th>X10_Payment_Bins</th>\n",
       "      <th>...</th>\n",
       "      <th>X17_abs</th>\n",
       "      <th>X17_sign</th>\n",
       "      <th>X17_monthlydif</th>\n",
       "      <th>X18_binary</th>\n",
       "      <th>X19_binary</th>\n",
       "      <th>X20_binary</th>\n",
       "      <th>X21_binary</th>\n",
       "      <th>X22_binary</th>\n",
       "      <th>X23_binary</th>\n",
       "      <th>Y</th>\n",
       "    </tr>\n",
       "  </thead>\n",
       "  <tbody>\n",
       "    <tr>\n",
       "      <th>1</th>\n",
       "      <td>-0.043526</td>\n",
       "      <td>2</td>\n",
       "      <td>2</td>\n",
       "      <td>1</td>\n",
       "      <td>1</td>\n",
       "      <td>2</td>\n",
       "      <td>2</td>\n",
       "      <td>1</td>\n",
       "      <td>1</td>\n",
       "      <td>2</td>\n",
       "      <td>...</td>\n",
       "      <td>-0.288536</td>\n",
       "      <td>0</td>\n",
       "      <td>1</td>\n",
       "      <td>0</td>\n",
       "      <td>1</td>\n",
       "      <td>0</td>\n",
       "      <td>0</td>\n",
       "      <td>0</td>\n",
       "      <td>0</td>\n",
       "      <td>1</td>\n",
       "    </tr>\n",
       "    <tr>\n",
       "      <th>2</th>\n",
       "      <td>-0.351920</td>\n",
       "      <td>2</td>\n",
       "      <td>2</td>\n",
       "      <td>2</td>\n",
       "      <td>1</td>\n",
       "      <td>1</td>\n",
       "      <td>2</td>\n",
       "      <td>2</td>\n",
       "      <td>2</td>\n",
       "      <td>2</td>\n",
       "      <td>...</td>\n",
       "      <td>0.226085</td>\n",
       "      <td>1</td>\n",
       "      <td>1</td>\n",
       "      <td>0</td>\n",
       "      <td>1</td>\n",
       "      <td>1</td>\n",
       "      <td>1</td>\n",
       "      <td>0</td>\n",
       "      <td>1</td>\n",
       "      <td>1</td>\n",
       "    </tr>\n",
       "    <tr>\n",
       "      <th>3</th>\n",
       "      <td>-0.937871</td>\n",
       "      <td>2</td>\n",
       "      <td>2</td>\n",
       "      <td>2</td>\n",
       "      <td>2</td>\n",
       "      <td>2</td>\n",
       "      <td>2</td>\n",
       "      <td>2</td>\n",
       "      <td>2</td>\n",
       "      <td>2</td>\n",
       "      <td>...</td>\n",
       "      <td>0.479649</td>\n",
       "      <td>1</td>\n",
       "      <td>1</td>\n",
       "      <td>1</td>\n",
       "      <td>1</td>\n",
       "      <td>1</td>\n",
       "      <td>1</td>\n",
       "      <td>1</td>\n",
       "      <td>1</td>\n",
       "      <td>0</td>\n",
       "    </tr>\n",
       "    <tr>\n",
       "      <th>4</th>\n",
       "      <td>-0.937871</td>\n",
       "      <td>2</td>\n",
       "      <td>2</td>\n",
       "      <td>1</td>\n",
       "      <td>2</td>\n",
       "      <td>2</td>\n",
       "      <td>2</td>\n",
       "      <td>2</td>\n",
       "      <td>2</td>\n",
       "      <td>2</td>\n",
       "      <td>...</td>\n",
       "      <td>0.305020</td>\n",
       "      <td>1</td>\n",
       "      <td>1</td>\n",
       "      <td>1</td>\n",
       "      <td>1</td>\n",
       "      <td>1</td>\n",
       "      <td>1</td>\n",
       "      <td>1</td>\n",
       "      <td>1</td>\n",
       "      <td>0</td>\n",
       "    </tr>\n",
       "    <tr>\n",
       "      <th>5</th>\n",
       "      <td>-0.937871</td>\n",
       "      <td>1</td>\n",
       "      <td>2</td>\n",
       "      <td>1</td>\n",
       "      <td>3</td>\n",
       "      <td>1</td>\n",
       "      <td>2</td>\n",
       "      <td>1</td>\n",
       "      <td>2</td>\n",
       "      <td>2</td>\n",
       "      <td>...</td>\n",
       "      <td>0.322760</td>\n",
       "      <td>1</td>\n",
       "      <td>1</td>\n",
       "      <td>1</td>\n",
       "      <td>1</td>\n",
       "      <td>1</td>\n",
       "      <td>1</td>\n",
       "      <td>1</td>\n",
       "      <td>1</td>\n",
       "      <td>0</td>\n",
       "    </tr>\n",
       "  </tbody>\n",
       "</table>\n",
       "<p>5 rows × 36 columns</p>\n",
       "</div>"
      ],
      "text/plain": [
       "         X1  X2  X3  X4  X5_Age_Bins  X6_Payment_Bins  X7_Payment_Bins  \\\n",
       "1 -0.043526   2   2   1            1                2                2   \n",
       "2 -0.351920   2   2   2            1                1                2   \n",
       "3 -0.937871   2   2   2            2                2                2   \n",
       "4 -0.937871   2   2   1            2                2                2   \n",
       "5 -0.937871   1   2   1            3                1                2   \n",
       "\n",
       "   X8_Payment_Bins  X9_Payment_Bins  X10_Payment_Bins ...   X17_abs  X17_sign  \\\n",
       "1                1                1                 2 ... -0.288536         0   \n",
       "2                2                2                 2 ...  0.226085         1   \n",
       "3                2                2                 2 ...  0.479649         1   \n",
       "4                2                2                 2 ...  0.305020         1   \n",
       "5                1                2                 2 ...  0.322760         1   \n",
       "\n",
       "   X17_monthlydif  X18_binary  X19_binary  X20_binary  X21_binary  X22_binary  \\\n",
       "1               1           0           1           0           0           0   \n",
       "2               1           0           1           1           1           0   \n",
       "3               1           1           1           1           1           1   \n",
       "4               1           1           1           1           1           1   \n",
       "5               1           1           1           1           1           1   \n",
       "\n",
       "   X23_binary  Y  \n",
       "1           0  1  \n",
       "2           1  1  \n",
       "3           1  0  \n",
       "4           1  0  \n",
       "5           1  0  \n",
       "\n",
       "[5 rows x 36 columns]"
      ]
     },
     "execution_count": 33,
     "metadata": {},
     "output_type": "execute_result"
    }
   ],
   "source": [
    "# reorder the columns appropriately \n",
    "df = df[['X1','X2','X3','X4','X5_Age_Bins','X6_Payment_Bins', 'X7_Payment_Bins','X8_Payment_Bins','X9_Payment_Bins',\n",
    "         'X10_Payment_Bins','X11_Payment_Bins','X12_abs','X12_sign','X12_monthlydif','X13_abs','X13_sign','X13_monthlydif',\n",
    "        'X14_abs','X14_sign','X14_monthlydif','X15_abs','X15_sign','X15_monthlydif','X16_abs','X16_sign','X16_monthlydif',\n",
    "        'X17_abs','X17_sign','X17_monthlydif','X18_binary','X19_binary','X20_binary','X21_binary','X22_binary','X23_binary','Y']]\n",
    "df.head()"
   ]
  },
  {
   "cell_type": "code",
   "execution_count": 34,
   "metadata": {},
   "outputs": [
    {
     "data": {
      "text/plain": [
       "Index(['X1', 'X2', 'X3', 'X4', 'X5_Age_Bins', 'X6_Payment_Bins',\n",
       "       'X7_Payment_Bins', 'X8_Payment_Bins', 'X9_Payment_Bins',\n",
       "       'X10_Payment_Bins', 'X11_Payment_Bins', 'X12_abs', 'X12_sign',\n",
       "       'X12_monthlydif', 'X13_abs', 'X13_sign', 'X13_monthlydif', 'X14_abs',\n",
       "       'X14_sign', 'X14_monthlydif', 'X15_abs', 'X15_sign', 'X15_monthlydif',\n",
       "       'X16_abs', 'X16_sign', 'X16_monthlydif', 'X17_abs', 'X17_sign',\n",
       "       'X17_monthlydif', 'X18_binary', 'X19_binary', 'X20_binary',\n",
       "       'X21_binary', 'X22_binary', 'X23_binary', 'Y'],\n",
       "      dtype='object')"
      ]
     },
     "execution_count": 34,
     "metadata": {},
     "output_type": "execute_result"
    }
   ],
   "source": [
    "# checking that columns were reordered properly \n",
    "df.columns"
   ]
  },
  {
   "cell_type": "code",
   "execution_count": 35,
   "metadata": {},
   "outputs": [],
   "source": [
    "# export the dataframe \n",
    "df.to_csv('csv_files/p2_comp2_final_use.csv')"
   ]
  },
  {
   "cell_type": "code",
   "execution_count": null,
   "metadata": {},
   "outputs": [],
   "source": []
  }
 ],
 "metadata": {
  "kernelspec": {
   "display_name": "Python 3",
   "language": "python",
   "name": "python3"
  },
  "language_info": {
   "codemirror_mode": {
    "name": "ipython",
    "version": 3
   },
   "file_extension": ".py",
   "mimetype": "text/x-python",
   "name": "python",
   "nbconvert_exporter": "python",
   "pygments_lexer": "ipython3",
   "version": "3.6.5"
  }
 },
 "nbformat": 4,
 "nbformat_minor": 2
}
