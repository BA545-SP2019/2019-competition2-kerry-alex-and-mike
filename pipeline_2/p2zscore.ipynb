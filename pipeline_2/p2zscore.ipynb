{
 "cells": [
  {
   "cell_type": "code",
   "execution_count": 1,
   "metadata": {},
   "outputs": [],
   "source": [
    "import numpy as np\n",
    "import pandas as pd\n",
    "import matplotlib.pyplot as plt"
   ]
  },
  {
   "cell_type": "code",
   "execution_count": 2,
   "metadata": {},
   "outputs": [
    {
     "data": {
      "text/html": [
       "<div>\n",
       "<style scoped>\n",
       "    .dataframe tbody tr th:only-of-type {\n",
       "        vertical-align: middle;\n",
       "    }\n",
       "\n",
       "    .dataframe tbody tr th {\n",
       "        vertical-align: top;\n",
       "    }\n",
       "\n",
       "    .dataframe thead th {\n",
       "        text-align: right;\n",
       "    }\n",
       "</style>\n",
       "<table border=\"1\" class=\"dataframe\">\n",
       "  <thead>\n",
       "    <tr style=\"text-align: right;\">\n",
       "      <th></th>\n",
       "      <th>X1</th>\n",
       "      <th>X12_abs</th>\n",
       "      <th>X13_abs</th>\n",
       "      <th>X14_abs</th>\n",
       "      <th>X15_abs</th>\n",
       "      <th>X16_abs</th>\n",
       "      <th>X17_abs</th>\n",
       "    </tr>\n",
       "  </thead>\n",
       "  <tbody>\n",
       "    <tr>\n",
       "      <th>1</th>\n",
       "      <td>5.210007</td>\n",
       "      <td>3.969645</td>\n",
       "      <td>3.818918</td>\n",
       "      <td>2.971916</td>\n",
       "      <td>0.000000</td>\n",
       "      <td>0.000000</td>\n",
       "      <td>0.000000</td>\n",
       "    </tr>\n",
       "    <tr>\n",
       "      <th>2</th>\n",
       "      <td>7.023122</td>\n",
       "      <td>3.727433</td>\n",
       "      <td>3.463099</td>\n",
       "      <td>3.727433</td>\n",
       "      <td>3.853028</td>\n",
       "      <td>3.888135</td>\n",
       "      <td>1.567423</td>\n",
       "    </tr>\n",
       "    <tr>\n",
       "      <th>3</th>\n",
       "      <td>6.694330</td>\n",
       "      <td>5.550436</td>\n",
       "      <td>4.910897</td>\n",
       "      <td>4.883201</td>\n",
       "      <td>4.928477</td>\n",
       "      <td>4.963224</td>\n",
       "      <td>1.709513</td>\n",
       "    </tr>\n",
       "    <tr>\n",
       "      <th>4</th>\n",
       "      <td>6.069622</td>\n",
       "      <td>6.007138</td>\n",
       "      <td>6.033334</td>\n",
       "      <td>6.055192</td>\n",
       "      <td>5.520777</td>\n",
       "      <td>5.541542</td>\n",
       "      <td>1.771584</td>\n",
       "    </tr>\n",
       "    <tr>\n",
       "      <th>5</th>\n",
       "      <td>6.069622</td>\n",
       "      <td>4.527857</td>\n",
       "      <td>4.222768</td>\n",
       "      <td>5.741842</td>\n",
       "      <td>5.250042</td>\n",
       "      <td>5.172252</td>\n",
       "      <td>1.729316</td>\n",
       "    </tr>\n",
       "  </tbody>\n",
       "</table>\n",
       "</div>"
      ],
      "text/plain": [
       "         X1   X12_abs   X13_abs   X14_abs   X15_abs   X16_abs   X17_abs\n",
       "1  5.210007  3.969645  3.818918  2.971916  0.000000  0.000000  0.000000\n",
       "2  7.023122  3.727433  3.463099  3.727433  3.853028  3.888135  1.567423\n",
       "3  6.694330  5.550436  4.910897  4.883201  4.928477  4.963224  1.709513\n",
       "4  6.069622  6.007138  6.033334  6.055192  5.520777  5.541542  1.771584\n",
       "5  6.069622  4.527857  4.222768  5.741842  5.250042  5.172252  1.729316"
      ]
     },
     "execution_count": 2,
     "metadata": {},
     "output_type": "execute_result"
    }
   ],
   "source": [
    "# read cvs file \n",
    "dfx = pd.read_csv('../csv_files/p2stdev.csv', index_col=0)\n",
    "dfx.head()"
   ]
  },
  {
   "cell_type": "code",
   "execution_count": 3,
   "metadata": {},
   "outputs": [
    {
     "data": {
      "text/plain": [
       "X1        -0.235173\n",
       "X12_abs   -0.852180\n",
       "X13_abs   -0.869760\n",
       "X14_abs   -0.875382\n",
       "X15_abs   -0.872293\n",
       "X16_abs   -0.837084\n",
       "X17_abs   -1.856177\n",
       "dtype: float64"
      ]
     },
     "execution_count": 3,
     "metadata": {},
     "output_type": "execute_result"
    }
   ],
   "source": [
    "dfx.skew()"
   ]
  },
  {
   "cell_type": "code",
   "execution_count": 4,
   "metadata": {},
   "outputs": [
    {
     "data": {
      "image/png": "[encoded data removed]",
      "text/plain": [
       "<Figure size 432x288 with 1 Axes>"
      ]
     },
     "metadata": {},
     "output_type": "display_data"
    }
   ],
   "source": [
    "# show distribution of one column\n",
    "# notice the scale on the x-axis is not 0 to 1\n",
    "plt.hist(dfx['X1'])\n",
    "plt.show()"
   ]
  },
  {
   "cell_type": "code",
   "execution_count": 5,
   "metadata": {},
   "outputs": [],
   "source": [
    "# import the preprocessing package from sklearn \n",
    "from sklearn import preprocessing\n",
    "# define column names\n",
    "names = dfx.columns\n",
    "\n",
    "# create scaler variable \n",
    "scaler = preprocessing.StandardScaler()\n",
    "\n",
    "# fit and scale data \n",
    "dfxstandard = scaler.fit_transform(dfx)\n",
    "dfxstandard = pd.DataFrame(dfxstandard, columns=names)"
   ]
  },
  {
   "cell_type": "code",
   "execution_count": 6,
   "metadata": {},
   "outputs": [
    {
     "data": {
      "text/html": [
       "<div>\n",
       "<style scoped>\n",
       "    .dataframe tbody tr th:only-of-type {\n",
       "        vertical-align: middle;\n",
       "    }\n",
       "\n",
       "    .dataframe tbody tr th {\n",
       "        vertical-align: top;\n",
       "    }\n",
       "\n",
       "    .dataframe thead th {\n",
       "        text-align: right;\n",
       "    }\n",
       "</style>\n",
       "<table border=\"1\" class=\"dataframe\">\n",
       "  <thead>\n",
       "    <tr style=\"text-align: right;\">\n",
       "      <th></th>\n",
       "      <th>X1</th>\n",
       "      <th>X12_abs</th>\n",
       "      <th>X13_abs</th>\n",
       "      <th>X14_abs</th>\n",
       "      <th>X15_abs</th>\n",
       "      <th>X16_abs</th>\n",
       "      <th>X17_abs</th>\n",
       "    </tr>\n",
       "  </thead>\n",
       "  <tbody>\n",
       "    <tr>\n",
       "      <th>count</th>\n",
       "      <td>3.000000e+04</td>\n",
       "      <td>3.000000e+04</td>\n",
       "      <td>3.000000e+04</td>\n",
       "      <td>3.000000e+04</td>\n",
       "      <td>3.000000e+04</td>\n",
       "      <td>3.000000e+04</td>\n",
       "      <td>3.000000e+04</td>\n",
       "    </tr>\n",
       "    <tr>\n",
       "      <th>mean</th>\n",
       "      <td>-1.800042e-16</td>\n",
       "      <td>-8.715991e-17</td>\n",
       "      <td>9.402849e-17</td>\n",
       "      <td>-1.942150e-17</td>\n",
       "      <td>-3.410605e-17</td>\n",
       "      <td>-1.089499e-17</td>\n",
       "      <td>2.013204e-16</td>\n",
       "    </tr>\n",
       "    <tr>\n",
       "      <th>std</th>\n",
       "      <td>1.000017e+00</td>\n",
       "      <td>1.000017e+00</td>\n",
       "      <td>1.000017e+00</td>\n",
       "      <td>1.000017e+00</td>\n",
       "      <td>1.000017e+00</td>\n",
       "      <td>1.000017e+00</td>\n",
       "      <td>1.000017e+00</td>\n",
       "    </tr>\n",
       "    <tr>\n",
       "      <th>min</th>\n",
       "      <td>-2.277309e+00</td>\n",
       "      <td>-2.515004e+00</td>\n",
       "      <td>-2.366661e+00</td>\n",
       "      <td>-2.280506e+00</td>\n",
       "      <td>-2.211690e+00</td>\n",
       "      <td>-2.134718e+00</td>\n",
       "      <td>-2.449562e+00</td>\n",
       "    </tr>\n",
       "    <tr>\n",
       "      <th>25%</th>\n",
       "      <td>-9.378709e-01</td>\n",
       "      <td>-5.429758e-01</td>\n",
       "      <td>-5.242382e-01</td>\n",
       "      <td>-5.040768e-01</td>\n",
       "      <td>-4.930736e-01</td>\n",
       "      <td>-5.071967e-01</td>\n",
       "      <td>1.426891e-02</td>\n",
       "    </tr>\n",
       "    <tr>\n",
       "      <th>50%</th>\n",
       "      <td>1.279088e-01</td>\n",
       "      <td>1.599807e-01</td>\n",
       "      <td>1.789996e-01</td>\n",
       "      <td>1.904228e-01</td>\n",
       "      <td>2.160076e-01</td>\n",
       "      <td>2.428477e-01</td>\n",
       "      <td>3.867362e-01</td>\n",
       "    </tr>\n",
       "    <tr>\n",
       "      <th>75%</th>\n",
       "      <td>7.631813e-01</td>\n",
       "      <td>6.972307e-01</td>\n",
       "      <td>6.931351e-01</td>\n",
       "      <td>6.858096e-01</td>\n",
       "      <td>6.809038e-01</td>\n",
       "      <td>6.829543e-01</td>\n",
       "      <td>5.581274e-01</td>\n",
       "    </tr>\n",
       "    <tr>\n",
       "      <th>max</th>\n",
       "      <td>2.748667e+00</td>\n",
       "      <td>2.493538e+00</td>\n",
       "      <td>2.457974e+00</td>\n",
       "      <td>2.877805e+00</td>\n",
       "      <td>2.396223e+00</td>\n",
       "      <td>2.446070e+00</td>\n",
       "      <td>1.098027e+00</td>\n",
       "    </tr>\n",
       "  </tbody>\n",
       "</table>\n",
       "</div>"
      ],
      "text/plain": [
       "                 X1       X12_abs       X13_abs       X14_abs       X15_abs  \\\n",
       "count  3.000000e+04  3.000000e+04  3.000000e+04  3.000000e+04  3.000000e+04   \n",
       "mean  -1.800042e-16 -8.715991e-17  9.402849e-17 -1.942150e-17 -3.410605e-17   \n",
       "std    1.000017e+00  1.000017e+00  1.000017e+00  1.000017e+00  1.000017e+00   \n",
       "min   -2.277309e+00 -2.515004e+00 -2.366661e+00 -2.280506e+00 -2.211690e+00   \n",
       "25%   -9.378709e-01 -5.429758e-01 -5.242382e-01 -5.040768e-01 -4.930736e-01   \n",
       "50%    1.279088e-01  1.599807e-01  1.789996e-01  1.904228e-01  2.160076e-01   \n",
       "75%    7.631813e-01  6.972307e-01  6.931351e-01  6.858096e-01  6.809038e-01   \n",
       "max    2.748667e+00  2.493538e+00  2.457974e+00  2.877805e+00  2.396223e+00   \n",
       "\n",
       "            X16_abs       X17_abs  \n",
       "count  3.000000e+04  3.000000e+04  \n",
       "mean  -1.089499e-17  2.013204e-16  \n",
       "std    1.000017e+00  1.000017e+00  \n",
       "min   -2.134718e+00 -2.449562e+00  \n",
       "25%   -5.071967e-01  1.426891e-02  \n",
       "50%    2.428477e-01  3.867362e-01  \n",
       "75%    6.829543e-01  5.581274e-01  \n",
       "max    2.446070e+00  1.098027e+00  "
      ]
     },
     "execution_count": 6,
     "metadata": {},
     "output_type": "execute_result"
    }
   ],
   "source": [
    "# check if data was scaled correctly\n",
    "# mean and stdev should be equal to or almost equal to 0 and 1 respectively \n",
    "dfxstandard.describe()"
   ]
  },
  {
   "cell_type": "code",
   "execution_count": 7,
   "metadata": {},
   "outputs": [
    {
     "data": {
      "image/png": "[encoded data removed]",
      "text/plain": [
       "<Figure size 432x288 with 1 Axes>"
      ]
     },
     "metadata": {},
     "output_type": "display_data"
    }
   ],
   "source": [
    "# notice different scale on the x-axis\n",
    "# data has be scaled correctly \n",
    "plt.hist(dfxstandard['X1'])\n",
    "plt.show()"
   ]
  },
  {
   "cell_type": "code",
   "execution_count": 8,
   "metadata": {},
   "outputs": [
    {
     "data": {
      "image/png": "[encoded data removed]",
      "text/plain": [
       "<Figure size 432x288 with 9 Axes>"
      ]
     },
     "metadata": {},
     "output_type": "display_data"
    }
   ],
   "source": [
    "# examine distribution for all variables \n",
    "for col in dfxstandard.columns:\n",
    "    dfxstandard.hist(color='blue') #, range=(-2,2))\n",
    "    break\n",
    "plt.show()"
   ]
  },
  {
   "cell_type": "code",
   "execution_count": 9,
   "metadata": {},
   "outputs": [
    {
     "data": {
      "image/png": "[encoded data removed]",
      "text/plain": [
       "<Figure size 432x288 with 1 Axes>"
      ]
     },
     "metadata": {},
     "output_type": "display_data"
    }
   ],
   "source": [
    "# use boxplots as another way to check if the variables have been scaled correctly\n",
    "# mean line should line up with the 0 tick mark on the left axis \n",
    "plt.boxplot(dfxstandard['X1'], whis='range')\n",
    "plt.show()"
   ]
  },
  {
   "cell_type": "code",
   "execution_count": 10,
   "metadata": {},
   "outputs": [
    {
     "data": {
      "image/png": "[encoded data removed]",
      "text/plain": [
       "<Figure size 432x288 with 1 Axes>"
      ]
     },
     "metadata": {},
     "output_type": "display_data"
    }
   ],
   "source": [
    "plt.boxplot(dfxstandard['X12_abs'], whis='range')\n",
    "plt.show()"
   ]
  },
  {
   "cell_type": "code",
   "execution_count": 11,
   "metadata": {},
   "outputs": [
    {
     "data": {
      "image/png": "[encoded data removed]",
      "text/plain": [
       "<Figure size 432x288 with 1 Axes>"
      ]
     },
     "metadata": {},
     "output_type": "display_data"
    }
   ],
   "source": [
    "plt.boxplot(dfxstandard['X13_abs'], whis='range')\n",
    "plt.show()"
   ]
  },
  {
   "cell_type": "code",
   "execution_count": 12,
   "metadata": {},
   "outputs": [
    {
     "data": {
      "image/png": "[encoded data removed]",
      "text/plain": [
       "<Figure size 432x288 with 1 Axes>"
      ]
     },
     "metadata": {},
     "output_type": "display_data"
    }
   ],
   "source": [
    "plt.boxplot(dfxstandard['X14_abs'], whis='range')\n",
    "plt.show()"
   ]
  },
  {
   "cell_type": "code",
   "execution_count": 13,
   "metadata": {},
   "outputs": [
    {
     "data": {
      "image/png": "[encoded data removed]",
      "text/plain": [
       "<Figure size 432x288 with 1 Axes>"
      ]
     },
     "metadata": {},
     "output_type": "display_data"
    }
   ],
   "source": [
    "plt.boxplot(dfxstandard['X15_abs'], whis='range')\n",
    "plt.show()"
   ]
  },
  {
   "cell_type": "code",
   "execution_count": 14,
   "metadata": {},
   "outputs": [
    {
     "data": {
      "image/png": "[encoded data removed]",
      "text/plain": [
       "<Figure size 432x288 with 1 Axes>"
      ]
     },
     "metadata": {},
     "output_type": "display_data"
    }
   ],
   "source": [
    "plt.boxplot(dfxstandard['X16_abs'], whis='range')\n",
    "plt.show()"
   ]
  },
  {
   "cell_type": "code",
   "execution_count": 15,
   "metadata": {},
   "outputs": [
    {
     "data": {
      "image/png": "[encoded data removed]",
      "text/plain": [
       "<Figure size 432x288 with 1 Axes>"
      ]
     },
     "metadata": {},
     "output_type": "display_data"
    }
   ],
   "source": [
    "plt.boxplot(dfxstandard['X17_abs'], whis='range')\n",
    "plt.show()"
   ]
  },
  {
   "cell_type": "code",
   "execution_count": 16,
   "metadata": {},
   "outputs": [
    {
     "data": {
      "text/html": [
       "<div>\n",
       "<style scoped>\n",
       "    .dataframe tbody tr th:only-of-type {\n",
       "        vertical-align: middle;\n",
       "    }\n",
       "\n",
       "    .dataframe tbody tr th {\n",
       "        vertical-align: top;\n",
       "    }\n",
       "\n",
       "    .dataframe thead th {\n",
       "        text-align: right;\n",
       "    }\n",
       "</style>\n",
       "<table border=\"1\" class=\"dataframe\">\n",
       "  <thead>\n",
       "    <tr style=\"text-align: right;\">\n",
       "      <th></th>\n",
       "      <th>X1</th>\n",
       "      <th>X12_abs</th>\n",
       "      <th>X13_abs</th>\n",
       "      <th>X14_abs</th>\n",
       "      <th>X15_abs</th>\n",
       "      <th>X16_abs</th>\n",
       "      <th>X17_abs</th>\n",
       "    </tr>\n",
       "  </thead>\n",
       "  <tbody>\n",
       "    <tr>\n",
       "      <th>count</th>\n",
       "      <td>30000.000000</td>\n",
       "      <td>30000.000000</td>\n",
       "      <td>30000.000000</td>\n",
       "      <td>30000.000000</td>\n",
       "      <td>30000.000000</td>\n",
       "      <td>30000.000000</td>\n",
       "      <td>30000.000000</td>\n",
       "    </tr>\n",
       "    <tr>\n",
       "      <th>mean</th>\n",
       "      <td>7.069527</td>\n",
       "      <td>4.991279</td>\n",
       "      <td>4.892141</td>\n",
       "      <td>4.812675</td>\n",
       "      <td>4.708839</td>\n",
       "      <td>4.601792</td>\n",
       "      <td>1.484381</td>\n",
       "    </tr>\n",
       "    <tr>\n",
       "      <th>std</th>\n",
       "      <td>1.066161</td>\n",
       "      <td>1.984634</td>\n",
       "      <td>2.067142</td>\n",
       "      <td>2.110389</td>\n",
       "      <td>2.129104</td>\n",
       "      <td>2.155727</td>\n",
       "      <td>0.605988</td>\n",
       "    </tr>\n",
       "    <tr>\n",
       "      <th>min</th>\n",
       "      <td>4.641589</td>\n",
       "      <td>0.000000</td>\n",
       "      <td>0.000000</td>\n",
       "      <td>0.000000</td>\n",
       "      <td>0.000000</td>\n",
       "      <td>0.000000</td>\n",
       "      <td>0.000000</td>\n",
       "    </tr>\n",
       "    <tr>\n",
       "      <th>25%</th>\n",
       "      <td>6.069622</td>\n",
       "      <td>3.913689</td>\n",
       "      <td>3.808485</td>\n",
       "      <td>3.748895</td>\n",
       "      <td>3.659052</td>\n",
       "      <td>3.508433</td>\n",
       "      <td>1.493027</td>\n",
       "    </tr>\n",
       "    <tr>\n",
       "      <th>50%</th>\n",
       "      <td>7.205896</td>\n",
       "      <td>5.308777</td>\n",
       "      <td>5.262153</td>\n",
       "      <td>5.214535</td>\n",
       "      <td>5.168734</td>\n",
       "      <td>5.125296</td>\n",
       "      <td>1.718734</td>\n",
       "    </tr>\n",
       "    <tr>\n",
       "      <th>75%</th>\n",
       "      <td>7.883188</td>\n",
       "      <td>6.375004</td>\n",
       "      <td>6.324926</td>\n",
       "      <td>6.259976</td>\n",
       "      <td>6.158530</td>\n",
       "      <td>6.074030</td>\n",
       "      <td>1.822594</td>\n",
       "    </tr>\n",
       "    <tr>\n",
       "      <th>max</th>\n",
       "      <td>10.000000</td>\n",
       "      <td>9.939958</td>\n",
       "      <td>9.973037</td>\n",
       "      <td>10.885860</td>\n",
       "      <td>9.810562</td>\n",
       "      <td>9.874762</td>\n",
       "      <td>2.149761</td>\n",
       "    </tr>\n",
       "  </tbody>\n",
       "</table>\n",
       "</div>"
      ],
      "text/plain": [
       "                 X1       X12_abs       X13_abs       X14_abs       X15_abs  \\\n",
       "count  30000.000000  30000.000000  30000.000000  30000.000000  30000.000000   \n",
       "mean       7.069527      4.991279      4.892141      4.812675      4.708839   \n",
       "std        1.066161      1.984634      2.067142      2.110389      2.129104   \n",
       "min        4.641589      0.000000      0.000000      0.000000      0.000000   \n",
       "25%        6.069622      3.913689      3.808485      3.748895      3.659052   \n",
       "50%        7.205896      5.308777      5.262153      5.214535      5.168734   \n",
       "75%        7.883188      6.375004      6.324926      6.259976      6.158530   \n",
       "max       10.000000      9.939958      9.973037     10.885860      9.810562   \n",
       "\n",
       "            X16_abs       X17_abs  \n",
       "count  30000.000000  30000.000000  \n",
       "mean       4.601792      1.484381  \n",
       "std        2.155727      0.605988  \n",
       "min        0.000000      0.000000  \n",
       "25%        3.508433      1.493027  \n",
       "50%        5.125296      1.718734  \n",
       "75%        6.074030      1.822594  \n",
       "max        9.874762      2.149761  "
      ]
     },
     "execution_count": 16,
     "metadata": {},
     "output_type": "execute_result"
    }
   ],
   "source": [
    "# verify that the correct values are being used in the new dataframe\n",
    "dfx.describe()"
   ]
  },
  {
   "cell_type": "code",
   "execution_count": 19,
   "metadata": {},
   "outputs": [],
   "source": [
    "# export only dfx dataframe \n",
    "dfx.to_csv('../csv_files/p2zscorex.csv')"
   ]
  },
  {
   "cell_type": "code",
   "execution_count": null,
   "metadata": {},
   "outputs": [],
   "source": []
  }
 ],
 "metadata": {
  "kernelspec": {
   "display_name": "Python 3",
   "language": "python",
   "name": "python3"
  },
  "language_info": {
   "codemirror_mode": {
    "name": "ipython",
    "version": 3
   },
   "file_extension": ".py",
   "mimetype": "text/x-python",
   "name": "python",
   "nbconvert_exporter": "python",
   "pygments_lexer": "ipython3",
   "version": "3.6.5"
  }
 },
 "nbformat": 4,
 "nbformat_minor": 2
}
