{
 "cells": [
  {
   "cell_type": "markdown",
   "metadata": {},
   "source": [
    "# Competition 2 - Final Report #\n",
    "**Alex Cattie, Mike Szemenyei, Kerry Clarke**"
   ]
  },
  {
   "cell_type": "markdown",
   "metadata": {},
   "source": [
    "### Part 1 ###"
   ]
  },
  {
   "cell_type": "markdown",
   "metadata": {},
   "source": [
    "**Business Understanding - Framing the Analytical Question(s)**\n",
    "- How accurately are we able to predict that a customer is going to default?\n",
    "- What is the proabability that a customer is going to default? \n",
    "   - Not neccassirly 'yes' or 'no' but a percantage chance which would make classifying easier\n",
    "- Is there a unique characteristic that those who defaul usually possess? \n",
    "- Can the probability of default produced through data mining represent the \"real\" probability of defaulting?\n",
    "- Do those who default tend to be of a certain age? education level? or relationship?"
   ]
  },
  {
   "cell_type": "markdown",
   "metadata": {},
   "source": [
    "**Data Understanding**\n",
    "\n"
   ]
  },
  {
   "cell_type": "markdown",
   "metadata": {},
   "source": [
    "**Data Dictionary**"
   ]
  },
  {
   "cell_type": "markdown",
   "metadata": {},
   "source": [
    "**EDA Graphs**"
   ]
  },
  {
   "cell_type": "markdown",
   "metadata": {},
   "source": [
    "**Initial Modeling with Raw Data**\n",
    "- Decision Tree\n",
    "- Logistic Regression\n",
    "- TPOT"
   ]
  },
  {
   "cell_type": "markdown",
   "metadata": {},
   "source": [
    "### Part 2 ###"
   ]
  },
  {
   "cell_type": "markdown",
   "metadata": {},
   "source": [
    "**Data Preprocessing**\n",
    "- Pipeline 1\n",
    "    - IQR\n",
    "    - Min/Max\n",
    "    - Skew\n",
    "- Pipeline 2\n",
    "    - Skew\n",
    "    - 3stdev\n",
    "    - z-score\n",
    "- **Balancing the Target (initial notebook)**\n",
    "- **Cross Validation vs. Train_Test_Split**"
   ]
  },
  {
   "cell_type": "markdown",
   "metadata": {},
   "source": [
    "### Part 3 ###"
   ]
  },
  {
   "cell_type": "markdown",
   "metadata": {},
   "source": [
    "**Models**\n",
    "- Decistion Tree\n",
    "- Logistic Regression\n",
    "- SVM\n",
    "- KNeighborsClassifier\n",
    "- AdaBoost\n",
    "- XGBoost\n",
    "- Random Forest\n",
    "- TPOT\n",
    "\n",
    "**Most with and without Cross Validation**"
   ]
  },
  {
   "cell_type": "markdown",
   "metadata": {},
   "source": [
    "### Part 4 ###"
   ]
  },
  {
   "cell_type": "markdown",
   "metadata": {},
   "source": [
    "**Detailed Results/Explanation of the Model with the Best Results that we built**\n",
    "- Explain any \"tweaking\" of the model\n",
    "    - feature selection\n",
    "    - playing with the parameters\n",
    "- Why it may have been the best model\n",
    "- This should be the best model/results we found by following the process from start to finish"
   ]
  },
  {
   "cell_type": "markdown",
   "metadata": {},
   "source": [
    "### Part 5 ###"
   ]
  },
  {
   "cell_type": "markdown",
   "metadata": {},
   "source": [
    "**TPOT Best Model/Results**\n",
    "- Explain why we also ran a TPOT \n",
    "    - because it optimizes performance rather than reproducibility\n",
    "- Explain the importance of knowing how and when to optimize one or the other"
   ]
  },
  {
   "cell_type": "markdown",
   "metadata": {},
   "source": [
    "# Conclusion #"
   ]
  },
  {
   "cell_type": "code",
   "execution_count": null,
   "metadata": {},
   "outputs": [],
   "source": []
  }
 ],
 "metadata": {
  "kernelspec": {
   "display_name": "Python 3",
   "language": "python",
   "name": "python3"
  },
  "language_info": {
   "codemirror_mode": {
    "name": "ipython",
    "version": 3
   },
   "file_extension": ".py",
   "mimetype": "text/x-python",
   "name": "python",
   "nbconvert_exporter": "python",
   "pygments_lexer": "ipython3",
   "version": "3.6.5"
  }
 },
 "nbformat": 4,
 "nbformat_minor": 2
}
